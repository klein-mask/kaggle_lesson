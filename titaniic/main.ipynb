{
 "cells": [
  {
   "cell_type": "markdown",
   "metadata": {},
   "source": [
    "# The first commit titanic from aijobcalle completed\n",
    "**Referenced Kanel is [Titanic Data Science EDA with meme+Solution](https://www.kaggle.com/soham1024/titanic-data-science-eda-with-meme-solution)**\n"
   ]
  },
  {
   "cell_type": "markdown",
   "metadata": {},
   "source": [
    "## Import packages"
   ]
  },
  {
   "cell_type": "code",
   "execution_count": 2,
   "metadata": {},
   "outputs": [],
   "source": [
    "import pandas as pd\n",
    "from pandas import Series\n",
    "import seaborn as sns\n",
    "import matplotlib.pyplot as plt\n",
    "%matplotlib inline\n",
    "# import seaborn as sns\n",
    "from sklearn.linear_model import LogisticRegression\n",
    "from sklearn.svm import SVC, LinearSVC\n",
    "from sklearn.ensemble import RandomForestClassifier, GradientBoostingClassifier\n",
    "from sklearn.neighbors import KNeighborsClassifier\n",
    "from sklearn.naive_bayes import GaussianNB\n",
    "from sklearn.linear_model import Perceptron\n",
    "from sklearn.linear_model import SGDClassifier\n",
    "from sklearn.tree import DecisionTreeClassifier\n",
    "from sklearn.model_selection import train_test_split, GridSearchCV\n",
    "from sklearn.pipeline import Pipeline\n",
    "from sklearn.preprocessing import StandardScaler\n",
    "from sklearn.metrics import accuracy_score, confusion_matrix, roc_auc_score, f1_score\n",
    "from sklearn.decomposition import PCA\n",
    "from sklearn.feature_selection import RFECV\n"
   ]
  },
  {
   "cell_type": "markdown",
   "metadata": {},
   "source": [
    "## Read train and test data"
   ]
  },
  {
   "cell_type": "code",
   "execution_count": 3,
   "metadata": {},
   "outputs": [
    {
     "name": "stdout",
     "output_type": "stream",
     "text": [
      "(891, 12)\n",
      "(418, 11)\n"
     ]
    }
   ],
   "source": [
    "train = pd.read_csv('./data/train.csv')\n",
    "test = pd.read_csv('./data/test.csv')\n",
    "print(train.shape)\n",
    "print(test.shape)\n",
    "\n",
    "all = pd.concat([train, test])"
   ]
  },
  {
   "cell_type": "code",
   "execution_count": 4,
   "metadata": {},
   "outputs": [
    {
     "name": "stdout",
     "output_type": "stream",
     "text": [
      "<class 'pandas.core.frame.DataFrame'>\n",
      "RangeIndex: 891 entries, 0 to 890\n",
      "Data columns (total 12 columns):\n",
      " #   Column       Non-Null Count  Dtype  \n",
      "---  ------       --------------  -----  \n",
      " 0   PassengerId  891 non-null    int64  \n",
      " 1   Survived     891 non-null    int64  \n",
      " 2   Pclass       891 non-null    int64  \n",
      " 3   Name         891 non-null    object \n",
      " 4   Sex          891 non-null    object \n",
      " 5   Age          714 non-null    float64\n",
      " 6   SibSp        891 non-null    int64  \n",
      " 7   Parch        891 non-null    int64  \n",
      " 8   Ticket       891 non-null    object \n",
      " 9   Fare         891 non-null    float64\n",
      " 10  Cabin        204 non-null    object \n",
      " 11  Embarked     889 non-null    object \n",
      "dtypes: float64(2), int64(5), object(5)\n",
      "memory usage: 83.7+ KB\n",
      "--------------------------------------------------\n",
      "<class 'pandas.core.frame.DataFrame'>\n",
      "RangeIndex: 418 entries, 0 to 417\n",
      "Data columns (total 11 columns):\n",
      " #   Column       Non-Null Count  Dtype  \n",
      "---  ------       --------------  -----  \n",
      " 0   PassengerId  418 non-null    int64  \n",
      " 1   Pclass       418 non-null    int64  \n",
      " 2   Name         418 non-null    object \n",
      " 3   Sex          418 non-null    object \n",
      " 4   Age          332 non-null    float64\n",
      " 5   SibSp        418 non-null    int64  \n",
      " 6   Parch        418 non-null    int64  \n",
      " 7   Ticket       418 non-null    object \n",
      " 8   Fare         417 non-null    float64\n",
      " 9   Cabin        91 non-null     object \n",
      " 10  Embarked     418 non-null    object \n",
      "dtypes: float64(2), int64(4), object(5)\n",
      "memory usage: 36.0+ KB\n",
      "--------------------------------------------------\n",
      "<class 'pandas.core.frame.DataFrame'>\n",
      "Int64Index: 1309 entries, 0 to 417\n",
      "Data columns (total 12 columns):\n",
      " #   Column       Non-Null Count  Dtype  \n",
      "---  ------       --------------  -----  \n",
      " 0   PassengerId  1309 non-null   int64  \n",
      " 1   Survived     891 non-null    float64\n",
      " 2   Pclass       1309 non-null   int64  \n",
      " 3   Name         1309 non-null   object \n",
      " 4   Sex          1309 non-null   object \n",
      " 5   Age          1046 non-null   float64\n",
      " 6   SibSp        1309 non-null   int64  \n",
      " 7   Parch        1309 non-null   int64  \n",
      " 8   Ticket       1309 non-null   object \n",
      " 9   Fare         1308 non-null   float64\n",
      " 10  Cabin        295 non-null    object \n",
      " 11  Embarked     1307 non-null   object \n",
      "dtypes: float64(3), int64(4), object(5)\n",
      "memory usage: 132.9+ KB\n"
     ]
    },
    {
     "data": {
      "text/plain": [
       "0      A/5\n",
       "1      PC \n",
       "2      STO\n",
       "3      113\n",
       "4      373\n",
       "      ... \n",
       "886    211\n",
       "887    112\n",
       "888    W./\n",
       "889    111\n",
       "890    370\n",
       "Name: Ticket, Length: 891, dtype: object"
      ]
     },
     "metadata": {},
     "output_type": "display_data"
    }
   ],
   "source": [
    "train.info()\n",
    "print('-'*50)\n",
    "test.info()\n",
    "print('-'*50)\n",
    "all.info()\n",
    "\n",
    "display(train['Ticket'].apply(lambda x: x[0:3]))"
   ]
  },
  {
   "cell_type": "markdown",
   "metadata": {},
   "source": [
    "## Feature engineering"
   ]
  },
  {
   "cell_type": "code",
   "execution_count": 274,
   "metadata": {},
   "outputs": [
    {
     "data": {
      "text/html": [
       "<div>\n",
       "<style scoped>\n",
       "    .dataframe tbody tr th:only-of-type {\n",
       "        vertical-align: middle;\n",
       "    }\n",
       "\n",
       "    .dataframe tbody tr th {\n",
       "        vertical-align: top;\n",
       "    }\n",
       "\n",
       "    .dataframe thead th {\n",
       "        text-align: right;\n",
       "    }\n",
       "</style>\n",
       "<table border=\"1\" class=\"dataframe\">\n",
       "  <thead>\n",
       "    <tr style=\"text-align: right;\">\n",
       "      <th></th>\n",
       "      <th>Survived</th>\n",
       "    </tr>\n",
       "    <tr>\n",
       "      <th>Pclass</th>\n",
       "      <th></th>\n",
       "    </tr>\n",
       "  </thead>\n",
       "  <tbody>\n",
       "    <tr>\n",
       "      <th>1</th>\n",
       "      <td>0.629630</td>\n",
       "    </tr>\n",
       "    <tr>\n",
       "      <th>2</th>\n",
       "      <td>0.472826</td>\n",
       "    </tr>\n",
       "    <tr>\n",
       "      <th>3</th>\n",
       "      <td>0.242363</td>\n",
       "    </tr>\n",
       "  </tbody>\n",
       "</table>\n",
       "</div>"
      ],
      "text/plain": [
       "        Survived\n",
       "Pclass          \n",
       "1       0.629630\n",
       "2       0.472826\n",
       "3       0.242363"
      ]
     },
     "execution_count": 274,
     "metadata": {},
     "output_type": "execute_result"
    }
   ],
   "source": [
    "train[['Pclass', 'Survived']].groupby('Pclass').mean().sort_values(by='Survived', ascending=False)"
   ]
  },
  {
   "cell_type": "code",
   "execution_count": 275,
   "metadata": {},
   "outputs": [
    {
     "data": {
      "text/html": [
       "<div>\n",
       "<style scoped>\n",
       "    .dataframe tbody tr th:only-of-type {\n",
       "        vertical-align: middle;\n",
       "    }\n",
       "\n",
       "    .dataframe tbody tr th {\n",
       "        vertical-align: top;\n",
       "    }\n",
       "\n",
       "    .dataframe thead th {\n",
       "        text-align: right;\n",
       "    }\n",
       "</style>\n",
       "<table border=\"1\" class=\"dataframe\">\n",
       "  <thead>\n",
       "    <tr style=\"text-align: right;\">\n",
       "      <th></th>\n",
       "      <th>Survived</th>\n",
       "    </tr>\n",
       "    <tr>\n",
       "      <th>Sex</th>\n",
       "      <th></th>\n",
       "    </tr>\n",
       "  </thead>\n",
       "  <tbody>\n",
       "    <tr>\n",
       "      <th>female</th>\n",
       "      <td>0.742038</td>\n",
       "    </tr>\n",
       "    <tr>\n",
       "      <th>male</th>\n",
       "      <td>0.188908</td>\n",
       "    </tr>\n",
       "  </tbody>\n",
       "</table>\n",
       "</div>"
      ],
      "text/plain": [
       "        Survived\n",
       "Sex             \n",
       "female  0.742038\n",
       "male    0.188908"
      ]
     },
     "execution_count": 275,
     "metadata": {},
     "output_type": "execute_result"
    }
   ],
   "source": [
    "train[['Sex', 'Survived']].groupby('Sex').mean().sort_values(by='Survived', ascending=False)"
   ]
  },
  {
   "cell_type": "code",
   "execution_count": 276,
   "metadata": {},
   "outputs": [],
   "source": [
    "all_droped = all.drop(['Ticket', 'Cabin'], axis=1)"
   ]
  },
  {
   "cell_type": "code",
   "execution_count": 277,
   "metadata": {},
   "outputs": [],
   "source": [
    "all_droped['Title'] = all_droped.Name.str.extract(' ([A-Za-z]+)\\.', expand=False)"
   ]
  },
  {
   "cell_type": "code",
   "execution_count": 278,
   "metadata": {},
   "outputs": [
    {
     "data": {
      "text/html": [
       "<div>\n",
       "<style scoped>\n",
       "    .dataframe tbody tr th:only-of-type {\n",
       "        vertical-align: middle;\n",
       "    }\n",
       "\n",
       "    .dataframe tbody tr th {\n",
       "        vertical-align: top;\n",
       "    }\n",
       "\n",
       "    .dataframe thead th {\n",
       "        text-align: right;\n",
       "    }\n",
       "</style>\n",
       "<table border=\"1\" class=\"dataframe\">\n",
       "  <thead>\n",
       "    <tr style=\"text-align: right;\">\n",
       "      <th>Sex</th>\n",
       "      <th>female</th>\n",
       "      <th>male</th>\n",
       "    </tr>\n",
       "    <tr>\n",
       "      <th>Title</th>\n",
       "      <th></th>\n",
       "      <th></th>\n",
       "    </tr>\n",
       "  </thead>\n",
       "  <tbody>\n",
       "    <tr>\n",
       "      <th>Capt</th>\n",
       "      <td>0</td>\n",
       "      <td>1</td>\n",
       "    </tr>\n",
       "    <tr>\n",
       "      <th>Col</th>\n",
       "      <td>0</td>\n",
       "      <td>4</td>\n",
       "    </tr>\n",
       "    <tr>\n",
       "      <th>Countess</th>\n",
       "      <td>1</td>\n",
       "      <td>0</td>\n",
       "    </tr>\n",
       "    <tr>\n",
       "      <th>Don</th>\n",
       "      <td>0</td>\n",
       "      <td>1</td>\n",
       "    </tr>\n",
       "    <tr>\n",
       "      <th>Dona</th>\n",
       "      <td>1</td>\n",
       "      <td>0</td>\n",
       "    </tr>\n",
       "    <tr>\n",
       "      <th>Dr</th>\n",
       "      <td>1</td>\n",
       "      <td>7</td>\n",
       "    </tr>\n",
       "    <tr>\n",
       "      <th>Jonkheer</th>\n",
       "      <td>0</td>\n",
       "      <td>1</td>\n",
       "    </tr>\n",
       "    <tr>\n",
       "      <th>Lady</th>\n",
       "      <td>1</td>\n",
       "      <td>0</td>\n",
       "    </tr>\n",
       "    <tr>\n",
       "      <th>Major</th>\n",
       "      <td>0</td>\n",
       "      <td>2</td>\n",
       "    </tr>\n",
       "    <tr>\n",
       "      <th>Master</th>\n",
       "      <td>0</td>\n",
       "      <td>61</td>\n",
       "    </tr>\n",
       "    <tr>\n",
       "      <th>Miss</th>\n",
       "      <td>260</td>\n",
       "      <td>0</td>\n",
       "    </tr>\n",
       "    <tr>\n",
       "      <th>Mlle</th>\n",
       "      <td>2</td>\n",
       "      <td>0</td>\n",
       "    </tr>\n",
       "    <tr>\n",
       "      <th>Mme</th>\n",
       "      <td>1</td>\n",
       "      <td>0</td>\n",
       "    </tr>\n",
       "    <tr>\n",
       "      <th>Mr</th>\n",
       "      <td>0</td>\n",
       "      <td>757</td>\n",
       "    </tr>\n",
       "    <tr>\n",
       "      <th>Mrs</th>\n",
       "      <td>197</td>\n",
       "      <td>0</td>\n",
       "    </tr>\n",
       "    <tr>\n",
       "      <th>Ms</th>\n",
       "      <td>2</td>\n",
       "      <td>0</td>\n",
       "    </tr>\n",
       "    <tr>\n",
       "      <th>Rev</th>\n",
       "      <td>0</td>\n",
       "      <td>8</td>\n",
       "    </tr>\n",
       "    <tr>\n",
       "      <th>Sir</th>\n",
       "      <td>0</td>\n",
       "      <td>1</td>\n",
       "    </tr>\n",
       "  </tbody>\n",
       "</table>\n",
       "</div>"
      ],
      "text/plain": [
       "Sex       female  male\n",
       "Title                 \n",
       "Capt           0     1\n",
       "Col            0     4\n",
       "Countess       1     0\n",
       "Don            0     1\n",
       "Dona           1     0\n",
       "Dr             1     7\n",
       "Jonkheer       0     1\n",
       "Lady           1     0\n",
       "Major          0     2\n",
       "Master         0    61\n",
       "Miss         260     0\n",
       "Mlle           2     0\n",
       "Mme            1     0\n",
       "Mr             0   757\n",
       "Mrs          197     0\n",
       "Ms             2     0\n",
       "Rev            0     8\n",
       "Sir            0     1"
      ]
     },
     "execution_count": 278,
     "metadata": {},
     "output_type": "execute_result"
    }
   ],
   "source": [
    "pd.crosstab(all_droped['Title'], all_droped['Sex'])"
   ]
  },
  {
   "cell_type": "code",
   "execution_count": 279,
   "metadata": {},
   "outputs": [
    {
     "data": {
      "text/html": [
       "<div>\n",
       "<style scoped>\n",
       "    .dataframe tbody tr th:only-of-type {\n",
       "        vertical-align: middle;\n",
       "    }\n",
       "\n",
       "    .dataframe tbody tr th {\n",
       "        vertical-align: top;\n",
       "    }\n",
       "\n",
       "    .dataframe thead th {\n",
       "        text-align: right;\n",
       "    }\n",
       "</style>\n",
       "<table border=\"1\" class=\"dataframe\">\n",
       "  <thead>\n",
       "    <tr style=\"text-align: right;\">\n",
       "      <th></th>\n",
       "      <th>Title</th>\n",
       "      <th>Survived</th>\n",
       "    </tr>\n",
       "  </thead>\n",
       "  <tbody>\n",
       "    <tr>\n",
       "      <th>0</th>\n",
       "      <td>Master</td>\n",
       "      <td>0.575000</td>\n",
       "    </tr>\n",
       "    <tr>\n",
       "      <th>1</th>\n",
       "      <td>Miss</td>\n",
       "      <td>0.702703</td>\n",
       "    </tr>\n",
       "    <tr>\n",
       "      <th>2</th>\n",
       "      <td>Mr</td>\n",
       "      <td>0.156673</td>\n",
       "    </tr>\n",
       "    <tr>\n",
       "      <th>3</th>\n",
       "      <td>Mrs</td>\n",
       "      <td>0.793651</td>\n",
       "    </tr>\n",
       "    <tr>\n",
       "      <th>4</th>\n",
       "      <td>Rare</td>\n",
       "      <td>0.347826</td>\n",
       "    </tr>\n",
       "  </tbody>\n",
       "</table>\n",
       "</div>"
      ],
      "text/plain": [
       "    Title  Survived\n",
       "0  Master  0.575000\n",
       "1    Miss  0.702703\n",
       "2      Mr  0.156673\n",
       "3     Mrs  0.793651\n",
       "4    Rare  0.347826"
      ]
     },
     "execution_count": 279,
     "metadata": {},
     "output_type": "execute_result"
    }
   ],
   "source": [
    "all_droped['Title'] = all_droped['Title'].replace(['Lady', 'Countess','Capt', 'Col', 'Don', 'Dr', 'Major', 'Rev', 'Sir', 'Jonkheer', 'Dona'], 'Rare')\n",
    "all_droped['Title'] = all_droped['Title'].replace('Mlle', 'Miss')\n",
    "all_droped['Title'] = all_droped['Title'].replace('Ms', 'Miss')\n",
    "all_droped['Title'] = all_droped['Title'].replace('Mme', 'Mrs')\n",
    "    \n",
    "all_droped[['Title', 'Survived']].groupby(['Title'], as_index=False).mean()"
   ]
  },
  {
   "cell_type": "code",
   "execution_count": 280,
   "metadata": {},
   "outputs": [],
   "source": [
    "title_mapping = {\n",
    "    'Mr': 1,\n",
    "    'Miss': 2,\n",
    "    'Mrs': 3,\n",
    "    'Master': 4,\n",
    "    'Rare': 5\n",
    "}\n",
    "all_droped['Title'] = all_droped['Title'].map(title_mapping)\n",
    "all_droped['Title'] = all_droped['Title'].fillna(0)"
   ]
  },
  {
   "cell_type": "code",
   "execution_count": 281,
   "metadata": {},
   "outputs": [
    {
     "data": {
      "text/html": [
       "<div>\n",
       "<style scoped>\n",
       "    .dataframe tbody tr th:only-of-type {\n",
       "        vertical-align: middle;\n",
       "    }\n",
       "\n",
       "    .dataframe tbody tr th {\n",
       "        vertical-align: top;\n",
       "    }\n",
       "\n",
       "    .dataframe thead th {\n",
       "        text-align: right;\n",
       "    }\n",
       "</style>\n",
       "<table border=\"1\" class=\"dataframe\">\n",
       "  <thead>\n",
       "    <tr style=\"text-align: right;\">\n",
       "      <th></th>\n",
       "      <th>Survived</th>\n",
       "      <th>Pclass</th>\n",
       "      <th>Sex</th>\n",
       "      <th>Age</th>\n",
       "      <th>SibSp</th>\n",
       "      <th>Parch</th>\n",
       "      <th>Fare</th>\n",
       "      <th>Embarked</th>\n",
       "      <th>Title</th>\n",
       "    </tr>\n",
       "  </thead>\n",
       "  <tbody>\n",
       "    <tr>\n",
       "      <th>0</th>\n",
       "      <td>0.0</td>\n",
       "      <td>3</td>\n",
       "      <td>male</td>\n",
       "      <td>22.0</td>\n",
       "      <td>1</td>\n",
       "      <td>0</td>\n",
       "      <td>7.2500</td>\n",
       "      <td>S</td>\n",
       "      <td>1</td>\n",
       "    </tr>\n",
       "    <tr>\n",
       "      <th>1</th>\n",
       "      <td>1.0</td>\n",
       "      <td>1</td>\n",
       "      <td>female</td>\n",
       "      <td>38.0</td>\n",
       "      <td>1</td>\n",
       "      <td>0</td>\n",
       "      <td>71.2833</td>\n",
       "      <td>C</td>\n",
       "      <td>3</td>\n",
       "    </tr>\n",
       "    <tr>\n",
       "      <th>2</th>\n",
       "      <td>1.0</td>\n",
       "      <td>3</td>\n",
       "      <td>female</td>\n",
       "      <td>26.0</td>\n",
       "      <td>0</td>\n",
       "      <td>0</td>\n",
       "      <td>7.9250</td>\n",
       "      <td>S</td>\n",
       "      <td>2</td>\n",
       "    </tr>\n",
       "    <tr>\n",
       "      <th>3</th>\n",
       "      <td>1.0</td>\n",
       "      <td>1</td>\n",
       "      <td>female</td>\n",
       "      <td>35.0</td>\n",
       "      <td>1</td>\n",
       "      <td>0</td>\n",
       "      <td>53.1000</td>\n",
       "      <td>S</td>\n",
       "      <td>3</td>\n",
       "    </tr>\n",
       "    <tr>\n",
       "      <th>4</th>\n",
       "      <td>0.0</td>\n",
       "      <td>3</td>\n",
       "      <td>male</td>\n",
       "      <td>35.0</td>\n",
       "      <td>0</td>\n",
       "      <td>0</td>\n",
       "      <td>8.0500</td>\n",
       "      <td>S</td>\n",
       "      <td>1</td>\n",
       "    </tr>\n",
       "  </tbody>\n",
       "</table>\n",
       "</div>"
      ],
      "text/plain": [
       "   Survived  Pclass     Sex   Age  SibSp  Parch     Fare Embarked  Title\n",
       "0       0.0       3    male  22.0      1      0   7.2500        S      1\n",
       "1       1.0       1  female  38.0      1      0  71.2833        C      3\n",
       "2       1.0       3  female  26.0      0      0   7.9250        S      2\n",
       "3       1.0       1  female  35.0      1      0  53.1000        S      3\n",
       "4       0.0       3    male  35.0      0      0   8.0500        S      1"
      ]
     },
     "execution_count": 281,
     "metadata": {},
     "output_type": "execute_result"
    }
   ],
   "source": [
    "passenger_id = all_droped['PassengerId']\n",
    "all_droped_2 = all_droped.drop(['Name', 'PassengerId'], axis=1)\n",
    "all_droped_2.head()"
   ]
  },
  {
   "cell_type": "code",
   "execution_count": 282,
   "metadata": {},
   "outputs": [
    {
     "name": "stdout",
     "output_type": "stream",
     "text": [
      "0      male\n",
      "1    female\n",
      "2    female\n",
      "3    female\n",
      "4      male\n",
      "Name: Sex, dtype: object\n",
      "male      843\n",
      "female    466\n",
      "Name: Sex, dtype: int64\n"
     ]
    }
   ],
   "source": [
    "sex_mapping = {\n",
    "    'male': 0,\n",
    "    'female': 1\n",
    "}\n",
    "\n",
    "print(all_droped_2['Sex'].head())\n",
    "print(all_droped_2['Sex'].value_counts())\n",
    "all_droped_2['Sex'] = all_droped_2['Sex'].map(sex_mapping).astype(int)"
   ]
  },
  {
   "cell_type": "code",
   "execution_count": 283,
   "metadata": {},
   "outputs": [
    {
     "name": "stdout",
     "output_type": "stream",
     "text": [
      "<class 'pandas.core.frame.DataFrame'>\n",
      "Int64Index: 1309 entries, 0 to 417\n",
      "Data columns (total 9 columns):\n",
      " #   Column    Non-Null Count  Dtype  \n",
      "---  ------    --------------  -----  \n",
      " 0   Survived  891 non-null    float64\n",
      " 1   Pclass    1309 non-null   int64  \n",
      " 2   Sex       1309 non-null   int64  \n",
      " 3   Age       1046 non-null   float64\n",
      " 4   SibSp     1309 non-null   int64  \n",
      " 5   Parch     1309 non-null   int64  \n",
      " 6   Fare      1308 non-null   float64\n",
      " 7   Embarked  1307 non-null   object \n",
      " 8   Title     1309 non-null   int64  \n",
      "dtypes: float64(3), int64(5), object(1)\n",
      "memory usage: 102.3+ KB\n"
     ]
    },
    {
     "data": {
      "text/plain": [
       "0    0\n",
       "1    1\n",
       "2    1\n",
       "3    1\n",
       "4    0\n",
       "Name: Sex, dtype: int64"
      ]
     },
     "execution_count": 283,
     "metadata": {},
     "output_type": "execute_result"
    }
   ],
   "source": [
    "all_droped_2.info()\n",
    "all_droped_2['Sex'].head()"
   ]
  },
  {
   "cell_type": "code",
   "execution_count": 284,
   "metadata": {},
   "outputs": [
    {
     "data": {
      "text/plain": [
       "Survived    418\n",
       "Pclass        0\n",
       "Sex           0\n",
       "Age         263\n",
       "SibSp         0\n",
       "Parch         0\n",
       "Fare          1\n",
       "Embarked      2\n",
       "Title         0\n",
       "dtype: int64"
      ]
     },
     "execution_count": 284,
     "metadata": {},
     "output_type": "execute_result"
    }
   ],
   "source": [
    "all_droped_2.isnull().sum()"
   ]
  },
  {
   "cell_type": "code",
   "execution_count": 285,
   "metadata": {},
   "outputs": [],
   "source": [
    "all_droped_2['Age'] = all_droped_2['Age'].fillna(all_droped_2['Age'].mean())"
   ]
  },
  {
   "cell_type": "code",
   "execution_count": 286,
   "metadata": {},
   "outputs": [
    {
     "data": {
      "text/plain": [
       "Survived    418\n",
       "Pclass        0\n",
       "Sex           0\n",
       "Age           0\n",
       "SibSp         0\n",
       "Parch         0\n",
       "Fare          1\n",
       "Embarked      2\n",
       "Title         0\n",
       "dtype: int64"
      ]
     },
     "execution_count": 286,
     "metadata": {},
     "output_type": "execute_result"
    }
   ],
   "source": [
    "all_droped_2.isnull().sum()"
   ]
  },
  {
   "cell_type": "code",
   "execution_count": 287,
   "metadata": {},
   "outputs": [
    {
     "data": {
      "text/html": [
       "<div>\n",
       "<style scoped>\n",
       "    .dataframe tbody tr th:only-of-type {\n",
       "        vertical-align: middle;\n",
       "    }\n",
       "\n",
       "    .dataframe tbody tr th {\n",
       "        vertical-align: top;\n",
       "    }\n",
       "\n",
       "    .dataframe thead th {\n",
       "        text-align: right;\n",
       "    }\n",
       "</style>\n",
       "<table border=\"1\" class=\"dataframe\">\n",
       "  <thead>\n",
       "    <tr style=\"text-align: right;\">\n",
       "      <th></th>\n",
       "      <th>Survived</th>\n",
       "      <th>Pclass</th>\n",
       "      <th>Sex</th>\n",
       "      <th>Age</th>\n",
       "      <th>SibSp</th>\n",
       "      <th>Parch</th>\n",
       "      <th>Fare</th>\n",
       "      <th>Embarked</th>\n",
       "      <th>Title</th>\n",
       "    </tr>\n",
       "  </thead>\n",
       "  <tbody>\n",
       "    <tr>\n",
       "      <th>0</th>\n",
       "      <td>0.0</td>\n",
       "      <td>3</td>\n",
       "      <td>0</td>\n",
       "      <td>22.0</td>\n",
       "      <td>1</td>\n",
       "      <td>0</td>\n",
       "      <td>7.2500</td>\n",
       "      <td>S</td>\n",
       "      <td>1</td>\n",
       "    </tr>\n",
       "    <tr>\n",
       "      <th>1</th>\n",
       "      <td>1.0</td>\n",
       "      <td>1</td>\n",
       "      <td>1</td>\n",
       "      <td>38.0</td>\n",
       "      <td>1</td>\n",
       "      <td>0</td>\n",
       "      <td>71.2833</td>\n",
       "      <td>C</td>\n",
       "      <td>3</td>\n",
       "    </tr>\n",
       "    <tr>\n",
       "      <th>2</th>\n",
       "      <td>1.0</td>\n",
       "      <td>3</td>\n",
       "      <td>1</td>\n",
       "      <td>26.0</td>\n",
       "      <td>0</td>\n",
       "      <td>0</td>\n",
       "      <td>7.9250</td>\n",
       "      <td>S</td>\n",
       "      <td>2</td>\n",
       "    </tr>\n",
       "    <tr>\n",
       "      <th>3</th>\n",
       "      <td>1.0</td>\n",
       "      <td>1</td>\n",
       "      <td>1</td>\n",
       "      <td>35.0</td>\n",
       "      <td>1</td>\n",
       "      <td>0</td>\n",
       "      <td>53.1000</td>\n",
       "      <td>S</td>\n",
       "      <td>3</td>\n",
       "    </tr>\n",
       "    <tr>\n",
       "      <th>4</th>\n",
       "      <td>0.0</td>\n",
       "      <td>3</td>\n",
       "      <td>0</td>\n",
       "      <td>35.0</td>\n",
       "      <td>0</td>\n",
       "      <td>0</td>\n",
       "      <td>8.0500</td>\n",
       "      <td>S</td>\n",
       "      <td>1</td>\n",
       "    </tr>\n",
       "  </tbody>\n",
       "</table>\n",
       "</div>"
      ],
      "text/plain": [
       "   Survived  Pclass  Sex   Age  SibSp  Parch     Fare Embarked  Title\n",
       "0       0.0       3    0  22.0      1      0   7.2500        S      1\n",
       "1       1.0       1    1  38.0      1      0  71.2833        C      3\n",
       "2       1.0       3    1  26.0      0      0   7.9250        S      2\n",
       "3       1.0       1    1  35.0      1      0  53.1000        S      3\n",
       "4       0.0       3    0  35.0      0      0   8.0500        S      1"
      ]
     },
     "execution_count": 287,
     "metadata": {},
     "output_type": "execute_result"
    }
   ],
   "source": [
    "all_droped_2.head()"
   ]
  },
  {
   "cell_type": "code",
   "execution_count": 288,
   "metadata": {},
   "outputs": [],
   "source": [
    "all_droped_2['FamilySize'] = all_droped_2['SibSp'] + all_droped_2['Parch'] + 1"
   ]
  },
  {
   "cell_type": "code",
   "execution_count": 289,
   "metadata": {},
   "outputs": [
    {
     "name": "stdout",
     "output_type": "stream",
     "text": [
      "   FamilySize  Survived\n",
      "0           1  0.303538\n",
      "1           2  0.552795\n",
      "2           3  0.578431\n",
      "3           4  0.724138\n",
      "4           5  0.200000\n",
      "5           6  0.136364\n",
      "6           7  0.333333\n",
      "7           8  0.000000\n",
      "8          11  0.000000\n"
     ]
    }
   ],
   "source": [
    "print(all_droped_2[['FamilySize', 'Survived']].groupby(['FamilySize'], as_index=False).mean())"
   ]
  },
  {
   "cell_type": "code",
   "execution_count": 290,
   "metadata": {},
   "outputs": [],
   "source": [
    "all_droped_2['IsAlone'] = 0\n",
    "all_droped_2.loc[all_droped_2['FamilySize'] == 1, 'IsAlone'] = 1"
   ]
  },
  {
   "cell_type": "code",
   "execution_count": 291,
   "metadata": {},
   "outputs": [
    {
     "data": {
      "text/html": [
       "<div>\n",
       "<style scoped>\n",
       "    .dataframe tbody tr th:only-of-type {\n",
       "        vertical-align: middle;\n",
       "    }\n",
       "\n",
       "    .dataframe tbody tr th {\n",
       "        vertical-align: top;\n",
       "    }\n",
       "\n",
       "    .dataframe thead th {\n",
       "        text-align: right;\n",
       "    }\n",
       "</style>\n",
       "<table border=\"1\" class=\"dataframe\">\n",
       "  <thead>\n",
       "    <tr style=\"text-align: right;\">\n",
       "      <th></th>\n",
       "      <th>Survived</th>\n",
       "      <th>Pclass</th>\n",
       "      <th>Sex</th>\n",
       "      <th>Age</th>\n",
       "      <th>Fare</th>\n",
       "      <th>Embarked</th>\n",
       "      <th>Title</th>\n",
       "      <th>IsAlone</th>\n",
       "    </tr>\n",
       "  </thead>\n",
       "  <tbody>\n",
       "    <tr>\n",
       "      <th>0</th>\n",
       "      <td>0.0</td>\n",
       "      <td>3</td>\n",
       "      <td>0</td>\n",
       "      <td>22.0</td>\n",
       "      <td>7.2500</td>\n",
       "      <td>S</td>\n",
       "      <td>1</td>\n",
       "      <td>0</td>\n",
       "    </tr>\n",
       "    <tr>\n",
       "      <th>1</th>\n",
       "      <td>1.0</td>\n",
       "      <td>1</td>\n",
       "      <td>1</td>\n",
       "      <td>38.0</td>\n",
       "      <td>71.2833</td>\n",
       "      <td>C</td>\n",
       "      <td>3</td>\n",
       "      <td>0</td>\n",
       "    </tr>\n",
       "    <tr>\n",
       "      <th>2</th>\n",
       "      <td>1.0</td>\n",
       "      <td>3</td>\n",
       "      <td>1</td>\n",
       "      <td>26.0</td>\n",
       "      <td>7.9250</td>\n",
       "      <td>S</td>\n",
       "      <td>2</td>\n",
       "      <td>1</td>\n",
       "    </tr>\n",
       "    <tr>\n",
       "      <th>3</th>\n",
       "      <td>1.0</td>\n",
       "      <td>1</td>\n",
       "      <td>1</td>\n",
       "      <td>35.0</td>\n",
       "      <td>53.1000</td>\n",
       "      <td>S</td>\n",
       "      <td>3</td>\n",
       "      <td>0</td>\n",
       "    </tr>\n",
       "    <tr>\n",
       "      <th>4</th>\n",
       "      <td>0.0</td>\n",
       "      <td>3</td>\n",
       "      <td>0</td>\n",
       "      <td>35.0</td>\n",
       "      <td>8.0500</td>\n",
       "      <td>S</td>\n",
       "      <td>1</td>\n",
       "      <td>1</td>\n",
       "    </tr>\n",
       "  </tbody>\n",
       "</table>\n",
       "</div>"
      ],
      "text/plain": [
       "   Survived  Pclass  Sex   Age     Fare Embarked  Title  IsAlone\n",
       "0       0.0       3    0  22.0   7.2500        S      1        0\n",
       "1       1.0       1    1  38.0  71.2833        C      3        0\n",
       "2       1.0       3    1  26.0   7.9250        S      2        1\n",
       "3       1.0       1    1  35.0  53.1000        S      3        0\n",
       "4       0.0       3    0  35.0   8.0500        S      1        1"
      ]
     },
     "execution_count": 291,
     "metadata": {},
     "output_type": "execute_result"
    }
   ],
   "source": [
    "all_droped_3 = all_droped_2.drop(['Parch', 'SibSp', 'FamilySize'], axis=1)\n",
    "all_droped_3.head()"
   ]
  },
  {
   "cell_type": "code",
   "execution_count": 292,
   "metadata": {},
   "outputs": [],
   "source": [
    "embarked_mode = all_droped_3['Embarked'].mode()[0]"
   ]
  },
  {
   "cell_type": "code",
   "execution_count": 293,
   "metadata": {},
   "outputs": [],
   "source": [
    "all_droped_3['Embarked'] = all_droped_3['Embarked'].fillna(embarked_mode)"
   ]
  },
  {
   "cell_type": "code",
   "execution_count": 294,
   "metadata": {},
   "outputs": [],
   "source": [
    "embarked_mapping = {\n",
    "    'S': 0,\n",
    "    'C': 1,\n",
    "    'Q': 2\n",
    "}\n",
    "\n",
    "all_droped_3['Embarked'] = all_droped_3['Embarked'].map(embarked_mapping).astype(int)"
   ]
  },
  {
   "cell_type": "code",
   "execution_count": 295,
   "metadata": {},
   "outputs": [
    {
     "data": {
      "text/html": [
       "<div>\n",
       "<style scoped>\n",
       "    .dataframe tbody tr th:only-of-type {\n",
       "        vertical-align: middle;\n",
       "    }\n",
       "\n",
       "    .dataframe tbody tr th {\n",
       "        vertical-align: top;\n",
       "    }\n",
       "\n",
       "    .dataframe thead th {\n",
       "        text-align: right;\n",
       "    }\n",
       "</style>\n",
       "<table border=\"1\" class=\"dataframe\">\n",
       "  <thead>\n",
       "    <tr style=\"text-align: right;\">\n",
       "      <th></th>\n",
       "      <th>Survived</th>\n",
       "      <th>Pclass</th>\n",
       "      <th>Sex</th>\n",
       "      <th>Age</th>\n",
       "      <th>Fare</th>\n",
       "      <th>Embarked</th>\n",
       "      <th>Title</th>\n",
       "      <th>IsAlone</th>\n",
       "    </tr>\n",
       "  </thead>\n",
       "  <tbody>\n",
       "    <tr>\n",
       "      <th>0</th>\n",
       "      <td>0.0</td>\n",
       "      <td>3</td>\n",
       "      <td>0</td>\n",
       "      <td>22.0</td>\n",
       "      <td>7.2500</td>\n",
       "      <td>0</td>\n",
       "      <td>1</td>\n",
       "      <td>0</td>\n",
       "    </tr>\n",
       "    <tr>\n",
       "      <th>1</th>\n",
       "      <td>1.0</td>\n",
       "      <td>1</td>\n",
       "      <td>1</td>\n",
       "      <td>38.0</td>\n",
       "      <td>71.2833</td>\n",
       "      <td>1</td>\n",
       "      <td>3</td>\n",
       "      <td>0</td>\n",
       "    </tr>\n",
       "    <tr>\n",
       "      <th>2</th>\n",
       "      <td>1.0</td>\n",
       "      <td>3</td>\n",
       "      <td>1</td>\n",
       "      <td>26.0</td>\n",
       "      <td>7.9250</td>\n",
       "      <td>0</td>\n",
       "      <td>2</td>\n",
       "      <td>1</td>\n",
       "    </tr>\n",
       "    <tr>\n",
       "      <th>3</th>\n",
       "      <td>1.0</td>\n",
       "      <td>1</td>\n",
       "      <td>1</td>\n",
       "      <td>35.0</td>\n",
       "      <td>53.1000</td>\n",
       "      <td>0</td>\n",
       "      <td>3</td>\n",
       "      <td>0</td>\n",
       "    </tr>\n",
       "    <tr>\n",
       "      <th>4</th>\n",
       "      <td>0.0</td>\n",
       "      <td>3</td>\n",
       "      <td>0</td>\n",
       "      <td>35.0</td>\n",
       "      <td>8.0500</td>\n",
       "      <td>0</td>\n",
       "      <td>1</td>\n",
       "      <td>1</td>\n",
       "    </tr>\n",
       "  </tbody>\n",
       "</table>\n",
       "</div>"
      ],
      "text/plain": [
       "   Survived  Pclass  Sex   Age     Fare  Embarked  Title  IsAlone\n",
       "0       0.0       3    0  22.0   7.2500         0      1        0\n",
       "1       1.0       1    1  38.0  71.2833         1      3        0\n",
       "2       1.0       3    1  26.0   7.9250         0      2        1\n",
       "3       1.0       1    1  35.0  53.1000         0      3        0\n",
       "4       0.0       3    0  35.0   8.0500         0      1        1"
      ]
     },
     "execution_count": 295,
     "metadata": {},
     "output_type": "execute_result"
    }
   ],
   "source": [
    "all_droped_3.head()"
   ]
  },
  {
   "cell_type": "code",
   "execution_count": 296,
   "metadata": {},
   "outputs": [
    {
     "data": {
      "text/plain": [
       "Survived    418\n",
       "Pclass        0\n",
       "Sex           0\n",
       "Age           0\n",
       "Fare          1\n",
       "Embarked      0\n",
       "Title         0\n",
       "IsAlone       0\n",
       "dtype: int64"
      ]
     },
     "execution_count": 296,
     "metadata": {},
     "output_type": "execute_result"
    }
   ],
   "source": [
    "all_droped_3.isnull().sum()"
   ]
  },
  {
   "cell_type": "code",
   "execution_count": 297,
   "metadata": {},
   "outputs": [],
   "source": [
    "all_droped_3['Fare'] = all_droped_3['Fare'].fillna(all_droped_3['Fare'].dropna().median())"
   ]
  },
  {
   "cell_type": "code",
   "execution_count": 298,
   "metadata": {},
   "outputs": [],
   "source": [
    "# cut fare to 3 bins\n",
    "all_droped_3['FareBand'] = pd.qcut(all_droped_3['Fare'], 3)\n",
    "bands = all_droped_3[['FareBand', 'Survived']].groupby(['FareBand'], as_index=False).mean().sort_values(by='FareBand', ascending=True)"
   ]
  },
  {
   "cell_type": "code",
   "execution_count": 299,
   "metadata": {},
   "outputs": [],
   "source": [
    "fare_bands = bands['FareBand']"
   ]
  },
  {
   "cell_type": "code",
   "execution_count": 300,
   "metadata": {},
   "outputs": [
    {
     "data": {
      "text/plain": [
       "-0.001"
      ]
     },
     "execution_count": 300,
     "metadata": {},
     "output_type": "execute_result"
    }
   ],
   "source": [
    "fare_bands[0].left"
   ]
  },
  {
   "cell_type": "code",
   "execution_count": 301,
   "metadata": {},
   "outputs": [],
   "source": [
    "for idx, fb in enumerate(fare_bands):\n",
    "    mask = (float(fb.left) <= all_droped_3['Fare']) & (float(fb.right) > all_droped_3['Fare'])\n",
    "    all_droped_3.loc[mask, 'Fare'] = float(idx)"
   ]
  },
  {
   "cell_type": "code",
   "execution_count": 302,
   "metadata": {},
   "outputs": [
    {
     "name": "stdout",
     "output_type": "stream",
     "text": [
      "<class 'pandas.core.frame.DataFrame'>\n",
      "Int64Index: 1309 entries, 0 to 417\n",
      "Data columns (total 9 columns):\n",
      " #   Column    Non-Null Count  Dtype   \n",
      "---  ------    --------------  -----   \n",
      " 0   Survived  891 non-null    float64 \n",
      " 1   Pclass    1309 non-null   int64   \n",
      " 2   Sex       1309 non-null   int64   \n",
      " 3   Age       1309 non-null   float64 \n",
      " 4   Fare      1309 non-null   float64 \n",
      " 5   Embarked  1309 non-null   int64   \n",
      " 6   Title     1309 non-null   int64   \n",
      " 7   IsAlone   1309 non-null   int64   \n",
      " 8   FareBand  1309 non-null   category\n",
      "dtypes: category(1), float64(3), int64(5)\n",
      "memory usage: 93.4 KB\n"
     ]
    }
   ],
   "source": [
    "all_droped_3.info()"
   ]
  },
  {
   "cell_type": "code",
   "execution_count": 303,
   "metadata": {},
   "outputs": [],
   "source": [
    "all_droped_4 = all_droped_3.drop('FareBand', axis=1)"
   ]
  },
  {
   "cell_type": "code",
   "execution_count": 304,
   "metadata": {},
   "outputs": [
    {
     "name": "stdout",
     "output_type": "stream",
     "text": [
      "<class 'pandas.core.frame.DataFrame'>\n",
      "Int64Index: 1309 entries, 0 to 417\n",
      "Data columns (total 8 columns):\n",
      " #   Column    Non-Null Count  Dtype  \n",
      "---  ------    --------------  -----  \n",
      " 0   Survived  891 non-null    float64\n",
      " 1   Pclass    1309 non-null   int64  \n",
      " 2   Sex       1309 non-null   int64  \n",
      " 3   Age       1309 non-null   float64\n",
      " 4   Fare      1309 non-null   float64\n",
      " 5   Embarked  1309 non-null   int64  \n",
      " 6   Title     1309 non-null   int64  \n",
      " 7   IsAlone   1309 non-null   int64  \n",
      "dtypes: float64(3), int64(5)\n",
      "memory usage: 92.0 KB\n"
     ]
    }
   ],
   "source": [
    "all_droped_4.info()"
   ]
  },
  {
   "cell_type": "code",
   "execution_count": 305,
   "metadata": {},
   "outputs": [
    {
     "data": {
      "text/html": [
       "<div>\n",
       "<style scoped>\n",
       "    .dataframe tbody tr th:only-of-type {\n",
       "        vertical-align: middle;\n",
       "    }\n",
       "\n",
       "    .dataframe tbody tr th {\n",
       "        vertical-align: top;\n",
       "    }\n",
       "\n",
       "    .dataframe thead th {\n",
       "        text-align: right;\n",
       "    }\n",
       "</style>\n",
       "<table border=\"1\" class=\"dataframe\">\n",
       "  <thead>\n",
       "    <tr style=\"text-align: right;\">\n",
       "      <th></th>\n",
       "      <th>Survived</th>\n",
       "      <th>Pclass</th>\n",
       "      <th>Sex</th>\n",
       "      <th>Age</th>\n",
       "      <th>Fare</th>\n",
       "      <th>Embarked</th>\n",
       "      <th>Title</th>\n",
       "      <th>IsAlone</th>\n",
       "    </tr>\n",
       "  </thead>\n",
       "  <tbody>\n",
       "    <tr>\n",
       "      <th>0</th>\n",
       "      <td>0.0</td>\n",
       "      <td>3</td>\n",
       "      <td>0</td>\n",
       "      <td>22.0</td>\n",
       "      <td>0.0</td>\n",
       "      <td>0</td>\n",
       "      <td>1</td>\n",
       "      <td>0</td>\n",
       "    </tr>\n",
       "    <tr>\n",
       "      <th>1</th>\n",
       "      <td>1.0</td>\n",
       "      <td>1</td>\n",
       "      <td>1</td>\n",
       "      <td>38.0</td>\n",
       "      <td>2.0</td>\n",
       "      <td>1</td>\n",
       "      <td>3</td>\n",
       "      <td>0</td>\n",
       "    </tr>\n",
       "    <tr>\n",
       "      <th>2</th>\n",
       "      <td>1.0</td>\n",
       "      <td>3</td>\n",
       "      <td>1</td>\n",
       "      <td>26.0</td>\n",
       "      <td>0.0</td>\n",
       "      <td>0</td>\n",
       "      <td>2</td>\n",
       "      <td>1</td>\n",
       "    </tr>\n",
       "    <tr>\n",
       "      <th>3</th>\n",
       "      <td>1.0</td>\n",
       "      <td>1</td>\n",
       "      <td>1</td>\n",
       "      <td>35.0</td>\n",
       "      <td>2.0</td>\n",
       "      <td>0</td>\n",
       "      <td>3</td>\n",
       "      <td>0</td>\n",
       "    </tr>\n",
       "    <tr>\n",
       "      <th>4</th>\n",
       "      <td>0.0</td>\n",
       "      <td>3</td>\n",
       "      <td>0</td>\n",
       "      <td>35.0</td>\n",
       "      <td>0.0</td>\n",
       "      <td>0</td>\n",
       "      <td>1</td>\n",
       "      <td>1</td>\n",
       "    </tr>\n",
       "  </tbody>\n",
       "</table>\n",
       "</div>"
      ],
      "text/plain": [
       "   Survived  Pclass  Sex   Age  Fare  Embarked  Title  IsAlone\n",
       "0       0.0       3    0  22.0   0.0         0      1        0\n",
       "1       1.0       1    1  38.0   2.0         1      3        0\n",
       "2       1.0       3    1  26.0   0.0         0      2        1\n",
       "3       1.0       1    1  35.0   2.0         0      3        0\n",
       "4       0.0       3    0  35.0   0.0         0      1        1"
      ]
     },
     "execution_count": 305,
     "metadata": {},
     "output_type": "execute_result"
    }
   ],
   "source": [
    "all_droped_4.head()"
   ]
  },
  {
   "cell_type": "code",
   "execution_count": 306,
   "metadata": {},
   "outputs": [],
   "source": [
    "train_feature_maked = all_droped_4[:train.shape[0]]\n",
    "test_feature_maked = all_droped_4[train.shape[0]:]"
   ]
  },
  {
   "cell_type": "code",
   "execution_count": 307,
   "metadata": {},
   "outputs": [
    {
     "name": "stdout",
     "output_type": "stream",
     "text": [
      "(891, 8)\n",
      "(418, 8)\n"
     ]
    }
   ],
   "source": [
    "print(train_feature_maked.shape)\n",
    "print(test_feature_maked.shape)"
   ]
  },
  {
   "cell_type": "code",
   "execution_count": 308,
   "metadata": {},
   "outputs": [
    {
     "name": "stdout",
     "output_type": "stream",
     "text": [
      "<class 'pandas.core.frame.DataFrame'>\n",
      "Int64Index: 418 entries, 0 to 417\n",
      "Data columns (total 8 columns):\n",
      " #   Column    Non-Null Count  Dtype  \n",
      "---  ------    --------------  -----  \n",
      " 0   Survived  0 non-null      float64\n",
      " 1   Pclass    418 non-null    int64  \n",
      " 2   Sex       418 non-null    int64  \n",
      " 3   Age       418 non-null    float64\n",
      " 4   Fare      418 non-null    float64\n",
      " 5   Embarked  418 non-null    int64  \n",
      " 6   Title     418 non-null    int64  \n",
      " 7   IsAlone   418 non-null    int64  \n",
      "dtypes: float64(3), int64(5)\n",
      "memory usage: 29.4 KB\n"
     ]
    }
   ],
   "source": [
    "test_feature_maked.info()"
   ]
  },
  {
   "cell_type": "code",
   "execution_count": 309,
   "metadata": {},
   "outputs": [],
   "source": [
    "X = train_feature_maked.drop('Survived', axis=1)\n",
    "y = train_feature_maked['Survived']"
   ]
  },
  {
   "cell_type": "markdown",
   "metadata": {},
   "source": [
    "## Split train and eval data"
   ]
  },
  {
   "cell_type": "code",
   "execution_count": 310,
   "metadata": {},
   "outputs": [
    {
     "name": "stdout",
     "output_type": "stream",
     "text": [
      "(623, 7)\n",
      "(268, 7)\n",
      "(623,)\n",
      "(268,)\n"
     ]
    }
   ],
   "source": [
    "X_train, X_eval, y_train, y_eval = train_test_split(X, y, test_size=0.3, random_state=0)\n",
    "print(X_train.shape)\n",
    "print(X_eval.shape)\n",
    "print(y_train.shape)\n",
    "print(y_eval.shape)"
   ]
  },
  {
   "cell_type": "markdown",
   "metadata": {},
   "source": [
    "## Create model pipelines"
   ]
  },
  {
   "cell_type": "code",
   "execution_count": 311,
   "metadata": {},
   "outputs": [],
   "source": [
    "def create_pca_pipelines(n_components):\n",
    "    return {\n",
    "        'rf': Pipeline([\n",
    "                ('scaler', StandardScaler()),\n",
    "                ('features', PCA(n_components=n_components, random_state=0)),\n",
    "                ('model', RandomForestClassifier(random_state=0))\n",
    "            ]),\n",
    "        'gb': Pipeline([\n",
    "                ('scaler', StandardScaler()),\n",
    "                ('features', PCA(n_components=n_components, random_state=0)),\n",
    "                ('model', GradientBoostingClassifier(random_state=0))\n",
    "            ])\n",
    "    }"
   ]
  },
  {
   "cell_type": "code",
   "execution_count": 312,
   "metadata": {},
   "outputs": [],
   "source": [
    "def eval_pca_pipelines():\n",
    "    n_components_list = list(range(1, X_train.shape[1]))\n",
    "    \n",
    "    scores = {\n",
    "        'rf': [],\n",
    "        'gb': []\n",
    "    }\n",
    "    for i in n_components_list:\n",
    "        pipelines = create_pca_pipelines(i)\n",
    "        for pipe_name, pipeline in pipelines.items():      \n",
    "            pipeline.fit(X_train, y_train)\n",
    "            y_eval_pred = pipeline.predict(X_eval)\n",
    "            score = pipeline.score(X_eval, y_eval)\n",
    "            auc = roc_auc_score(y_eval, y_eval_pred)\n",
    "            f1 = f1_score(y_eval, y_eval_pred)\n",
    "            #print(f'model : {pipe_name}')\n",
    "            #print(f'score : {score}')\n",
    "            #print(f'auc : {auc}')\n",
    "            #print(f'f1 : {f1}')\n",
    "            #scores.append(score)\n",
    "            #aucs.append(auc)\n",
    "            #f1s.append(f1)\n",
    "            scores[pipe_name].append(auc)\n",
    "    return scores"
   ]
  },
  {
   "cell_type": "code",
   "execution_count": 313,
   "metadata": {},
   "outputs": [
    {
     "data": {
      "text/plain": [
       "<matplotlib.legend.Legend at 0x7f9398f873a0>"
      ]
     },
     "execution_count": 313,
     "metadata": {},
     "output_type": "execute_result"
    },
    {
     "data": {
      "image/png": "[encoded data removed]",
      "text/plain": [
       "<Figure size 432x288 with 1 Axes>"
      ]
     },
     "metadata": {
      "needs_background": "light"
     },
     "output_type": "display_data"
    }
   ],
   "source": [
    "scores = eval_pca_pipelines()\n",
    "plt.xlabel('PCA compornents number')\n",
    "plt.ylabel('AUC Score')\n",
    "plt.plot(n_components_list, scores['rf'], label='Random Forest')\n",
    "plt.plot(n_components_list, scores['gb'], label='Gradient Boost')\n",
    "plt.legend()"
   ]
  },
  {
   "cell_type": "code",
   "execution_count": 314,
   "metadata": {},
   "outputs": [],
   "source": [
    "def create_rfecv_pipelines():\n",
    "    return {\n",
    "        'rf': Pipeline([\n",
    "                ('scaler', StandardScaler()),\n",
    "                ('features', RFECV(estimator=RandomForestClassifier(random_state=0), cv=5, scoring='f1')),\n",
    "                ('model', RandomForestClassifier(random_state=0))\n",
    "            ]),\n",
    "        'gb': Pipeline([\n",
    "                ('scaler', StandardScaler()),\n",
    "                ('features', RFECV(estimator=RandomForestClassifier(random_state=0), cv=5, scoring='f1')),\n",
    "                ('model', GradientBoostingClassifier(random_state=0))\n",
    "            ])\n",
    "    }"
   ]
  },
  {
   "cell_type": "code",
   "execution_count": 315,
   "metadata": {},
   "outputs": [],
   "source": [
    "def eval_rfecv_pipelines():\n",
    "    pipelines = create_rfecv_pipelines()\n",
    "    scores = {\n",
    "        'rf': [],\n",
    "        'gb': []\n",
    "    }\n",
    "    for pipe_name, pipeline in pipelines.items():\n",
    "        pipeline.fit(X_train, y_train)\n",
    "        y_eval_pred = pipeline.predict(X_eval)\n",
    "        score = pipeline.score(X_eval, y_eval)\n",
    "        auc = roc_auc_score(y_eval, y_eval_pred)\n",
    "        f1 = f1_score(y_eval, y_eval_pred) \n",
    "        scores[pipe_name].append(auc)\n",
    "    \n",
    "    return scores"
   ]
  },
  {
   "cell_type": "code",
   "execution_count": 316,
   "metadata": {},
   "outputs": [],
   "source": [
    "rfecv_scores = eval_rfecv_pipelines()"
   ]
  },
  {
   "cell_type": "code",
   "execution_count": 317,
   "metadata": {},
   "outputs": [
    {
     "name": "stdout",
     "output_type": "stream",
     "text": [
      "{'rf': [0.7835714285714286], 'gb': [0.8034523809523809]}\n"
     ]
    }
   ],
   "source": [
    "print(rfecv_scores)"
   ]
  },
  {
   "cell_type": "markdown",
   "metadata": {},
   "source": [
    "## Prediction test csv"
   ]
  },
  {
   "cell_type": "code",
   "execution_count": 318,
   "metadata": {},
   "outputs": [
    {
     "data": {
      "text/plain": [
       "Pipeline(steps=[('scaler', StandardScaler()),\n",
       "                ('features',\n",
       "                 RFECV(cv=5, estimator=RandomForestClassifier(random_state=0),\n",
       "                       scoring='f1')),\n",
       "                ('model', GradientBoostingClassifier(random_state=0))])"
      ]
     },
     "execution_count": 318,
     "metadata": {},
     "output_type": "execute_result"
    }
   ],
   "source": [
    "model = create_rfecv_pipelines()['gb']\n",
    "model.fit(X, y)\n",
    "#model.predict_proba(test_feature_maked)"
   ]
  },
  {
   "cell_type": "code",
   "execution_count": 319,
   "metadata": {},
   "outputs": [],
   "source": [
    "X_test = test_feature_maked.drop(['Survived'], axis=1)"
   ]
  },
  {
   "cell_type": "code",
   "execution_count": 320,
   "metadata": {},
   "outputs": [
    {
     "data": {
      "text/plain": [
       "Index(['Pclass', 'Sex', 'Age', 'Fare', 'Embarked', 'Title', 'IsAlone'], dtype='object')"
      ]
     },
     "execution_count": 320,
     "metadata": {},
     "output_type": "execute_result"
    }
   ],
   "source": [
    "X_test.columns"
   ]
  },
  {
   "cell_type": "code",
   "execution_count": 321,
   "metadata": {},
   "outputs": [
    {
     "data": {
      "text/plain": [
       "array([[0.92152521, 0.07847479],\n",
       "       [0.81722448, 0.18277552],\n",
       "       [0.51108071, 0.48891929],\n",
       "       [0.80629202, 0.19370798],\n",
       "       [0.38610156, 0.61389844],\n",
       "       [0.90733263, 0.09266737],\n",
       "       [0.37040281, 0.62959719],\n",
       "       [0.76056203, 0.23943797],\n",
       "       [0.24737794, 0.75262206],\n",
       "       [0.90754896, 0.09245104],\n",
       "       [0.89927232, 0.10072768],\n",
       "       [0.80182848, 0.19817152],\n",
       "       [0.03798513, 0.96201487],\n",
       "       [0.70366452, 0.29633548],\n",
       "       [0.07677352, 0.92322648],\n",
       "       [0.07383174, 0.92616826],\n",
       "       [0.92152521, 0.07847479],\n",
       "       [0.89708139, 0.10291861],\n",
       "       [0.29612036, 0.70387964],\n",
       "       [0.7959737 , 0.2040263 ],\n",
       "       [0.84977914, 0.15022086],\n",
       "       [0.38760093, 0.61239907],\n",
       "       [0.04648512, 0.95351488],\n",
       "       [0.72329243, 0.27670757],\n",
       "       [0.01774097, 0.98225903],\n",
       "       [0.95069503, 0.04930497],\n",
       "       [0.05023139, 0.94976861],\n",
       "       [0.89708139, 0.10291861],\n",
       "       [0.5343317 , 0.4656683 ],\n",
       "       [0.89927232, 0.10072768],\n",
       "       [0.92971587, 0.07028413],\n",
       "       [0.89683   , 0.10317   ],\n",
       "       [0.35078908, 0.64921092],\n",
       "       [0.46988317, 0.53011683],\n",
       "       [0.64642106, 0.35357894],\n",
       "       [0.89543207, 0.10456793],\n",
       "       [0.37040281, 0.62959719],\n",
       "       [0.57788351, 0.42211649],\n",
       "       [0.87122595, 0.12877405],\n",
       "       [0.85964323, 0.14035677],\n",
       "       [0.93637666, 0.06362334],\n",
       "       [0.64642106, 0.35357894],\n",
       "       [0.93637666, 0.06362334],\n",
       "       [0.06846148, 0.93153852],\n",
       "       [0.06754365, 0.93245635],\n",
       "       [0.85729247, 0.14270753],\n",
       "       [0.6939098 , 0.3060902 ],\n",
       "       [0.89927232, 0.10072768],\n",
       "       [0.06529872, 0.93470128],\n",
       "       [0.40139943, 0.59860057],\n",
       "       [0.65957279, 0.34042721],\n",
       "       [0.80629202, 0.19370798],\n",
       "       [0.09898285, 0.90101715],\n",
       "       [0.04135961, 0.95864039],\n",
       "       [0.89927232, 0.10072768],\n",
       "       [0.85840557, 0.14159443],\n",
       "       [0.92152521, 0.07847479],\n",
       "       [0.85729247, 0.14270753],\n",
       "       [0.89927232, 0.10072768],\n",
       "       [0.0235887 , 0.9764113 ],\n",
       "       [0.88847543, 0.11152457],\n",
       "       [0.75885065, 0.24114935],\n",
       "       [0.89543207, 0.10456793],\n",
       "       [0.37778657, 0.62221343],\n",
       "       [0.08858643, 0.91141357],\n",
       "       [0.06846148, 0.93153852],\n",
       "       [0.38848474, 0.61151526],\n",
       "       [0.80182848, 0.19817152],\n",
       "       [0.51808913, 0.48191087],\n",
       "       [0.06529872, 0.93470128],\n",
       "       [0.37778657, 0.62221343],\n",
       "       [0.89708139, 0.10291861],\n",
       "       [0.37964648, 0.62035352],\n",
       "       [0.63941767, 0.36058233],\n",
       "       [0.02060756, 0.97939244],\n",
       "       [0.40351111, 0.59648889],\n",
       "       [0.89927232, 0.10072768],\n",
       "       [0.02272592, 0.97727408],\n",
       "       [0.89927232, 0.10072768],\n",
       "       [0.37778657, 0.62221343],\n",
       "       [0.16366941, 0.83633059],\n",
       "       [0.96525605, 0.03474395],\n",
       "       [0.52765942, 0.47234058],\n",
       "       [0.89927232, 0.10072768],\n",
       "       [0.89927232, 0.10072768],\n",
       "       [0.89927232, 0.10072768],\n",
       "       [0.29612036, 0.70387964],\n",
       "       [0.38848474, 0.61151526],\n",
       "       [0.37040281, 0.62959719],\n",
       "       [0.12636423, 0.87363577],\n",
       "       [0.38610156, 0.61389844],\n",
       "       [0.89927232, 0.10072768],\n",
       "       [0.02924293, 0.97075707],\n",
       "       [0.89927232, 0.10072768],\n",
       "       [0.50847654, 0.49152346],\n",
       "       [0.85729247, 0.14270753],\n",
       "       [0.14011728, 0.85988272],\n",
       "       [0.89647512, 0.10352488],\n",
       "       [0.37012762, 0.62987238],\n",
       "       [0.90441891, 0.09558109],\n",
       "       [0.06049493, 0.93950507],\n",
       "       [0.74063254, 0.25936746],\n",
       "       [0.89927232, 0.10072768],\n",
       "       [0.82238621, 0.17761379],\n",
       "       [0.17603489, 0.82396511],\n",
       "       [0.89647512, 0.10352488],\n",
       "       [0.89708139, 0.10291861],\n",
       "       [0.89927232, 0.10072768],\n",
       "       [0.89927232, 0.10072768],\n",
       "       [0.90522966, 0.09477034],\n",
       "       [0.93637666, 0.06362334],\n",
       "       [0.37040281, 0.62959719],\n",
       "       [0.0235887 , 0.9764113 ],\n",
       "       [0.38848474, 0.61151526],\n",
       "       [0.07117665, 0.92882335],\n",
       "       [0.90604982, 0.09395018],\n",
       "       [0.89927232, 0.10072768],\n",
       "       [0.08349533, 0.91650467],\n",
       "       [0.43715955, 0.56284045],\n",
       "       [0.07101996, 0.92898004],\n",
       "       [0.13879571, 0.86120429],\n",
       "       [0.89927232, 0.10072768],\n",
       "       [0.01316226, 0.98683774],\n",
       "       [0.89647512, 0.10352488],\n",
       "       [0.89927232, 0.10072768],\n",
       "       [0.56298476, 0.43701524],\n",
       "       [0.89708139, 0.10291861],\n",
       "       [0.54083272, 0.45916728],\n",
       "       [0.90442123, 0.09557877],\n",
       "       [0.89708139, 0.10291861],\n",
       "       [0.75885065, 0.24114935],\n",
       "       [0.35405704, 0.64594296],\n",
       "       [0.46988317, 0.53011683],\n",
       "       [0.89927232, 0.10072768],\n",
       "       [0.88763466, 0.11236534],\n",
       "       [0.89708139, 0.10291861],\n",
       "       [0.82238621, 0.17761379],\n",
       "       [0.82238621, 0.17761379],\n",
       "       [0.37778657, 0.62221343],\n",
       "       [0.90440731, 0.09559269],\n",
       "       [0.92448158, 0.07551842],\n",
       "       [0.02060756, 0.97939244],\n",
       "       [0.9133403 , 0.0866597 ],\n",
       "       [0.85592184, 0.14407816],\n",
       "       [0.42454337, 0.57545663],\n",
       "       [0.81706617, 0.18293383],\n",
       "       [0.64642106, 0.35357894],\n",
       "       [0.89708139, 0.10291861],\n",
       "       [0.64642106, 0.35357894],\n",
       "       [0.95453949, 0.04546051],\n",
       "       [0.03798513, 0.96201487],\n",
       "       [0.89927232, 0.10072768],\n",
       "       [0.96475587, 0.03524413],\n",
       "       [0.40139943, 0.59860057],\n",
       "       [0.85840557, 0.14159443],\n",
       "       [0.89708139, 0.10291861],\n",
       "       [0.05961276, 0.94038724],\n",
       "       [0.37778657, 0.62221343],\n",
       "       [0.42454337, 0.57545663],\n",
       "       [0.80088498, 0.19911502],\n",
       "       [0.37040281, 0.62959719],\n",
       "       [0.38093321, 0.61906679],\n",
       "       [0.07208425, 0.92791575],\n",
       "       [0.89927232, 0.10072768],\n",
       "       [0.96011043, 0.03988957],\n",
       "       [0.80088498, 0.19911502],\n",
       "       [0.46292092, 0.53707908],\n",
       "       [0.91427598, 0.08572402],\n",
       "       [0.04648512, 0.95351488],\n",
       "       [0.57788351, 0.42211649],\n",
       "       [0.89927232, 0.10072768],\n",
       "       [0.80629202, 0.19370798],\n",
       "       [0.90754896, 0.09245104],\n",
       "       [0.89927232, 0.10072768],\n",
       "       [0.90440731, 0.09559269],\n",
       "       [0.08265203, 0.91734797],\n",
       "       [0.09898285, 0.90101715],\n",
       "       [0.84977914, 0.15022086],\n",
       "       [0.04080916, 0.95919084],\n",
       "       [0.2017027 , 0.7982973 ],\n",
       "       [0.89927232, 0.10072768],\n",
       "       [0.56876706, 0.43123294],\n",
       "       [0.04233218, 0.95766782],\n",
       "       [0.89927232, 0.10072768],\n",
       "       [0.02924293, 0.97075707],\n",
       "       [0.93637666, 0.06362334],\n",
       "       [0.10193912, 0.89806088],\n",
       "       [0.88847543, 0.11152457],\n",
       "       [0.85429881, 0.14570119],\n",
       "       [0.93637666, 0.06362334],\n",
       "       [0.83242183, 0.16757817],\n",
       "       [0.64642106, 0.35357894],\n",
       "       [0.38093321, 0.61906679],\n",
       "       [0.96475587, 0.03524413],\n",
       "       [0.17829631, 0.82170369],\n",
       "       [0.90441891, 0.09558109],\n",
       "       [0.06937506, 0.93062494],\n",
       "       [0.38848474, 0.61151526],\n",
       "       [0.90754896, 0.09245104],\n",
       "       [0.30686904, 0.69313096],\n",
       "       [0.54083272, 0.45916728],\n",
       "       [0.06447786, 0.93552214],\n",
       "       [0.60523718, 0.39476282],\n",
       "       [0.13879571, 0.86120429],\n",
       "       [0.87122595, 0.12877405],\n",
       "       [0.87643849, 0.12356151],\n",
       "       [0.74638798, 0.25361202],\n",
       "       [0.90754896, 0.09245104],\n",
       "       [0.02060756, 0.97939244],\n",
       "       [0.85729247, 0.14270753],\n",
       "       [0.75885065, 0.24114935],\n",
       "       [0.89927232, 0.10072768],\n",
       "       [0.89394341, 0.10605659],\n",
       "       [0.20561495, 0.79438505],\n",
       "       [0.81872017, 0.18127983],\n",
       "       [0.42454337, 0.57545663],\n",
       "       [0.37040281, 0.62959719],\n",
       "       [0.84977914, 0.15022086],\n",
       "       [0.02887151, 0.97112849],\n",
       "       [0.89927232, 0.10072768],\n",
       "       [0.08897154, 0.91102846],\n",
       "       [0.89708139, 0.10291861],\n",
       "       [0.04956277, 0.95043723],\n",
       "       [0.89708139, 0.10291861],\n",
       "       [0.02887151, 0.97112849],\n",
       "       [0.46988317, 0.53011683],\n",
       "       [0.89708139, 0.10291861],\n",
       "       [0.37040281, 0.62959719],\n",
       "       [0.93637666, 0.06362334],\n",
       "       [0.92152521, 0.07847479],\n",
       "       [0.90441742, 0.09558258],\n",
       "       [0.05404557, 0.94595443],\n",
       "       [0.89708139, 0.10291861],\n",
       "       [0.89927232, 0.10072768],\n",
       "       [0.5343317 , 0.4656683 ],\n",
       "       [0.88790182, 0.11209818],\n",
       "       [0.96525605, 0.03474395],\n",
       "       [0.88790182, 0.11209818],\n",
       "       [0.10525133, 0.89474867],\n",
       "       [0.01774097, 0.98225903],\n",
       "       [0.02887151, 0.97112849],\n",
       "       [0.17238314, 0.82761686],\n",
       "       [0.6939098 , 0.3060902 ],\n",
       "       [0.89927232, 0.10072768],\n",
       "       [0.49151427, 0.50848573],\n",
       "       [0.5343317 , 0.4656683 ],\n",
       "       [0.04956277, 0.95043723],\n",
       "       [0.85881598, 0.14118402],\n",
       "       [0.07101996, 0.92898004],\n",
       "       [0.46988317, 0.53011683],\n",
       "       [0.01551493, 0.98448507],\n",
       "       [0.88790182, 0.11209818],\n",
       "       [0.36713769, 0.63286231],\n",
       "       [0.90754896, 0.09245104],\n",
       "       [0.90441891, 0.09558109],\n",
       "       [0.89927232, 0.10072768],\n",
       "       [0.89927232, 0.10072768],\n",
       "       [0.89647512, 0.10352488],\n",
       "       [0.09898285, 0.90101715],\n",
       "       [0.89708139, 0.10291861],\n",
       "       [0.94418697, 0.05581303],\n",
       "       [0.89708139, 0.10291861],\n",
       "       [0.07101996, 0.92898004],\n",
       "       [0.08349533, 0.91650467],\n",
       "       [0.89927232, 0.10072768],\n",
       "       [0.89927232, 0.10072768],\n",
       "       [0.95737915, 0.04262085],\n",
       "       [0.89927232, 0.10072768],\n",
       "       [0.37040281, 0.62959719],\n",
       "       [0.89972044, 0.10027956],\n",
       "       [0.80182848, 0.19817152],\n",
       "       [0.89927232, 0.10072768],\n",
       "       [0.12631815, 0.87368185],\n",
       "       [0.54083272, 0.45916728],\n",
       "       [0.89927232, 0.10072768],\n",
       "       [0.09898285, 0.90101715],\n",
       "       [0.89647512, 0.10352488],\n",
       "       [0.90440731, 0.09559269],\n",
       "       [0.89927232, 0.10072768],\n",
       "       [0.90754896, 0.09245104],\n",
       "       [0.57788351, 0.42211649],\n",
       "       [0.06447786, 0.93552214],\n",
       "       [0.37040281, 0.62959719],\n",
       "       [0.68986466, 0.31013534],\n",
       "       [0.64548049, 0.35451951],\n",
       "       [0.92152521, 0.07847479],\n",
       "       [0.89927232, 0.10072768],\n",
       "       [0.65957279, 0.34042721],\n",
       "       [0.89927232, 0.10072768],\n",
       "       [0.89927232, 0.10072768],\n",
       "       [0.64642106, 0.35357894],\n",
       "       [0.37040281, 0.62959719],\n",
       "       [0.89927232, 0.10072768],\n",
       "       [0.35405704, 0.64594296],\n",
       "       [0.92152521, 0.07847479],\n",
       "       [0.82238621, 0.17761379],\n",
       "       [0.01551493, 0.98448507],\n",
       "       [0.89927232, 0.10072768],\n",
       "       [0.64642106, 0.35357894],\n",
       "       [0.89647512, 0.10352488],\n",
       "       [0.75885065, 0.24114935],\n",
       "       [0.89927232, 0.10072768],\n",
       "       [0.95747995, 0.04252005],\n",
       "       [0.90754896, 0.09245104],\n",
       "       [0.37040281, 0.62959719],\n",
       "       [0.2017027 , 0.7982973 ],\n",
       "       [0.64642106, 0.35357894],\n",
       "       [0.06447786, 0.93552214],\n",
       "       [0.84977914, 0.15022086],\n",
       "       [0.80950388, 0.19049612],\n",
       "       [0.90604982, 0.09395018],\n",
       "       [0.89708139, 0.10291861],\n",
       "       [0.89927232, 0.10072768],\n",
       "       [0.87553887, 0.12446113],\n",
       "       [0.02887151, 0.97112849],\n",
       "       [0.34427532, 0.65572468],\n",
       "       [0.84977914, 0.15022086],\n",
       "       [0.89919811, 0.10080189],\n",
       "       [0.80629202, 0.19370798],\n",
       "       [0.91565608, 0.08434392],\n",
       "       [0.82238621, 0.17761379],\n",
       "       [0.85729247, 0.14270753],\n",
       "       [0.82238621, 0.17761379],\n",
       "       [0.40351111, 0.59648889],\n",
       "       [0.03845724, 0.96154276],\n",
       "       [0.89708139, 0.10291861],\n",
       "       [0.13879571, 0.86120429],\n",
       "       [0.80182848, 0.19817152],\n",
       "       [0.85592184, 0.14407816],\n",
       "       [0.90754896, 0.09245104],\n",
       "       [0.04937098, 0.95062902],\n",
       "       [0.5343317 , 0.4656683 ],\n",
       "       [0.89927232, 0.10072768],\n",
       "       [0.37837655, 0.62162345],\n",
       "       [0.80629202, 0.19370798],\n",
       "       [0.64642106, 0.35357894],\n",
       "       [0.75885065, 0.24114935],\n",
       "       [0.93637666, 0.06362334],\n",
       "       [0.82273766, 0.17726234],\n",
       "       [0.4759002 , 0.5240998 ],\n",
       "       [0.90522966, 0.09477034],\n",
       "       [0.75885065, 0.24114935],\n",
       "       [0.85964323, 0.14035677],\n",
       "       [0.05980821, 0.94019179],\n",
       "       [0.49151427, 0.50848573],\n",
       "       [0.27753655, 0.72246345],\n",
       "       [0.82238621, 0.17761379],\n",
       "       [0.7292212 , 0.2707788 ],\n",
       "       [0.90754896, 0.09245104],\n",
       "       [0.06211059, 0.93788941],\n",
       "       [0.06754365, 0.93245635],\n",
       "       [0.87122595, 0.12877405],\n",
       "       [0.91352078, 0.08647922],\n",
       "       [0.88388873, 0.11611127],\n",
       "       [0.08349533, 0.91650467],\n",
       "       [0.7572584 , 0.2427416 ],\n",
       "       [0.06529872, 0.93470128],\n",
       "       [0.89927232, 0.10072768],\n",
       "       [0.89927232, 0.10072768],\n",
       "       [0.46988317, 0.53011683],\n",
       "       [0.85840557, 0.14159443],\n",
       "       [0.07383174, 0.92616826],\n",
       "       [0.04927997, 0.95072003],\n",
       "       [0.80629202, 0.19370798],\n",
       "       [0.14124788, 0.85875212],\n",
       "       [0.81523842, 0.18476158],\n",
       "       [0.89927232, 0.10072768],\n",
       "       [0.87204012, 0.12795988],\n",
       "       [0.06754365, 0.93245635],\n",
       "       [0.89647512, 0.10352488],\n",
       "       [0.90754896, 0.09245104],\n",
       "       [0.04632211, 0.95367789],\n",
       "       [0.89192985, 0.10807015],\n",
       "       [0.95747995, 0.04252005],\n",
       "       [0.02887151, 0.97112849],\n",
       "       [0.06943463, 0.93056537],\n",
       "       [0.57788351, 0.42211649],\n",
       "       [0.90754896, 0.09245104],\n",
       "       [0.84977914, 0.15022086],\n",
       "       [0.61147474, 0.38852526],\n",
       "       [0.89927232, 0.10072768],\n",
       "       [0.82238621, 0.17761379],\n",
       "       [0.46988317, 0.53011683],\n",
       "       [0.37837655, 0.62162345],\n",
       "       [0.89927232, 0.10072768],\n",
       "       [0.10193912, 0.89806088],\n",
       "       [0.89708139, 0.10291861],\n",
       "       [0.96475587, 0.03524413],\n",
       "       [0.89708139, 0.10291861],\n",
       "       [0.16366941, 0.83633059],\n",
       "       [0.65957279, 0.34042721],\n",
       "       [0.02887151, 0.97112849],\n",
       "       [0.38093321, 0.61906679],\n",
       "       [0.97568231, 0.02431769],\n",
       "       [0.89647512, 0.10352488],\n",
       "       [0.04233218, 0.95766782],\n",
       "       [0.89708139, 0.10291861],\n",
       "       [0.01774097, 0.98225903],\n",
       "       [0.89708139, 0.10291861],\n",
       "       [0.81706617, 0.18293383],\n",
       "       [0.05743981, 0.94256019],\n",
       "       [0.93637666, 0.06362334],\n",
       "       [0.05023139, 0.94976861],\n",
       "       [0.58074307, 0.41925693],\n",
       "       [0.65200257, 0.34799743],\n",
       "       [0.89919811, 0.10080189],\n",
       "       [0.90754896, 0.09245104],\n",
       "       [0.7572584 , 0.2427416 ],\n",
       "       [0.37040281, 0.62959719],\n",
       "       [0.34645785, 0.65354215],\n",
       "       [0.37040281, 0.62959719],\n",
       "       [0.0379892 , 0.9620108 ],\n",
       "       [0.37964648, 0.62035352],\n",
       "       [0.89927232, 0.10072768],\n",
       "       [0.17722941, 0.82277059],\n",
       "       [0.93637666, 0.06362334],\n",
       "       [0.89927232, 0.10072768],\n",
       "       [0.49151427, 0.50848573]])"
      ]
     },
     "execution_count": 321,
     "metadata": {},
     "output_type": "execute_result"
    }
   ],
   "source": [
    "model.predict_proba(X_test)"
   ]
  },
  {
   "cell_type": "code",
   "execution_count": 326,
   "metadata": {},
   "outputs": [],
   "source": [
    "y_test = model.predict(X_test)"
   ]
  },
  {
   "cell_type": "markdown",
   "metadata": {},
   "source": [
    "## Save result to csv"
   ]
  },
  {
   "cell_type": "code",
   "execution_count": 340,
   "metadata": {},
   "outputs": [],
   "source": [
    "test_passenger_id = passenger_id[train.shape[0]:]\n",
    "test_df = pd.DataFrame(columns=['PassengerId', 'Survived'])\n",
    "test_df['PassengerId'] = test_passenger_id\n",
    "test_df['Survived'] = Series(y_test, dtype=int)"
   ]
  },
  {
   "cell_type": "code",
   "execution_count": 341,
   "metadata": {},
   "outputs": [
    {
     "data": {
      "text/plain": [
       "0      0\n",
       "1      0\n",
       "2      0\n",
       "3      0\n",
       "4      1\n",
       "      ..\n",
       "413    0\n",
       "414    1\n",
       "415    0\n",
       "416    0\n",
       "417    1\n",
       "Name: Survived, Length: 418, dtype: int64"
      ]
     },
     "execution_count": 341,
     "metadata": {},
     "output_type": "execute_result"
    }
   ],
   "source": [
    "test_df['Survived']"
   ]
  },
  {
   "cell_type": "code",
   "execution_count": 342,
   "metadata": {},
   "outputs": [],
   "source": [
    "test_df.to_csv('./data/predict.csv', index=False)"
   ]
  },
  {
   "cell_type": "code",
   "execution_count": null,
   "metadata": {},
   "outputs": [],
   "source": []
  }
 ],
 "metadata": {
  "kernelspec": {
   "display_name": "Python 3",
   "language": "python",
   "name": "python3"
  },
  "language_info": {
   "codemirror_mode": {
    "name": "ipython",
    "version": 3
   },
   "file_extension": ".py",
   "mimetype": "text/x-python",
   "name": "python",
   "nbconvert_exporter": "python",
   "pygments_lexer": "ipython3",
   "version": "3.8.6"
  }
 },
 "nbformat": 4,
 "nbformat_minor": 4
}
