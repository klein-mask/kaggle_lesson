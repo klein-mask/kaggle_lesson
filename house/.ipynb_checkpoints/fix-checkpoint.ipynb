{
 "cells": [
  {
   "cell_type": "markdown",
   "metadata": {},
   "source": [
    "# Features for first learning\n",
    "|feature|mean|\n",
    "|-|-|\n",
    "|1stFlrSF|1Fの広さ|\n",
    "|2ndFlrSF|2Fの広さ|\n",
    "|TotalBsmtSF|地下の広さ|\n",
    "|TotalSF|合計の広さ|\n",
    "|YearBuilt|築年数|\n",
    "|OverallQual|材質|\n",
    "|GrLivArea|リビングの広さ|"
   ]
  },
  {
   "cell_type": "code",
   "execution_count": null,
   "metadata": {},
   "outputs": [],
   "source": [
    "import pandas as pd\n",
    "import numpy as np\n",
    "import matplotlib.pyplot as plt\n",
    "import seaborn as sns\n",
    "\n",
    "pd.set_option('display.max_rows', None)\n",
    "pd.set_option('display.max_columns', 100)\n",
    "\n",
    "train = pd.read_csv('./data/train.csv')\n",
    "test_x  = pd.read_csv('./data/test.csv')\n"
   ]
  },
  {
   "cell_type": "code",
   "execution_count": null,
   "metadata": {},
   "outputs": [],
   "source": [
    "train['TotalSF'] = train['1stFlrSF'] + train['2ndFlrSF'] + train['TotalBsmtSF']\n",
    "test_x['TotalSF'] = test_x['1stFlrSF'] + test_x['2ndFlrSF'] + test_x['TotalBsmtSF']"
   ]
  },
  {
   "cell_type": "code",
   "execution_count": null,
   "metadata": {},
   "outputs": [],
   "source": [
    "# トレーニングにだけしたい処理\n",
    "\n",
    "# 外れ値の削除（合計の広さ）\n",
    "train = train[(train['TotalSF'] > 700) & (train['TotalSF'] <= 7500)]\n",
    "\n",
    "# 外れ値の削除（築年数）\n",
    "mask1 = (train['YearBuilt'] > 1900) | (train['SalePrice'] < 400000)\n",
    "mask2 = (train['SalePrice'] < 700000)\n",
    "train = train[mask1 & mask2]\n",
    "\n",
    "# 外れ値の削除（家の材質）\n",
    "drop_indices1 = train[(train['OverallQual'] < 5) & (train['SalePrice'] > 200000)].index\n",
    "drop_indices2 = train[(train['OverallQual'] < 10) & (train['SalePrice'] > 500000)].index\n",
    "train = train.drop(drop_indices1)\n",
    "train = train.drop(drop_indices2)\n",
    "train = train[(train['OverallQual'] < 10) | (train['SalePrice'] < 600000)]"
   ]
  },
  {
   "cell_type": "code",
   "execution_count": null,
   "metadata": {},
   "outputs": [],
   "source": [
    "train_x = train.drop('SalePrice',axis=1)\n",
    "train_y = train['SalePrice']"
   ]
  },
  {
   "cell_type": "code",
   "execution_count": null,
   "metadata": {},
   "outputs": [],
   "source": [
    "# データ結合\n",
    "all_x = pd.concat([train_x, test], axis=0)"
   ]
  },
  {
   "cell_type": "code",
   "execution_count": null,
   "metadata": {},
   "outputs": [],
   "source": [
    "# 欠損値の確認\n",
    "all_x_na = all_x.isnull().sum()[all_x.isnull().sum() > 0].sort_values(ascending=False)\n",
    "all_x_na\n",
    "plt.figure(figsize=(20,10))\n",
    "plt.xticks(rotation='90')\n",
    "sns.barplot(x=all_x_na.index, y=all_x_na)"
   ]
  },
  {
   "cell_type": "markdown",
   "metadata": {},
   "source": [
    "# 各欠損値の意味とdrop or mean or median\n",
    "## PoolDC\n",
    "プールのクオリティ、存在しない場合は欠損値\n",
    "**drop**\n",
    "\n",
    "## MiscFeature\n",
    "他の特徴量でカバーされていない特筆事項（テニスコートやエレベーターなど）、特に無い場合は欠損値\n",
    "**drop**\n",
    "\n",
    "## Alley\n",
    "物件までの道の種類（砂利とかそういうの）\n",
    "**drop**\n",
    "\n",
    "## Fence\n",
    "フェンスの材質、無い場合は欠損値\n",
    "**drop**\n",
    "\n",
    "## FireplaceQu\n",
    "暖炉の質\n",
    "**drop**\n",
    "\n",
    "## LotFrontage\n",
    "物件に隣接した道路の長さ\n",
    "**drop**"
   ]
  },
  {
   "cell_type": "code",
   "execution_count": null,
   "metadata": {},
   "outputs": [],
   "source": [
    "# 欠損値のあるカラムのデータ型を確認\n",
    "na_columns = all_x.isnull().sum()[all_x.isnull().sum()>0].index.tolist()\n",
    "\n",
    "all_x[na_columns].dtypes.sort_values()"
   ]
  },
  {
   "cell_type": "code",
   "execution_count": null,
   "metadata": {},
   "outputs": [],
   "source": [
    "# 隣接した道の長さは同じ地区の中央値にする\n",
    "all_x['LotFrontage'] = all_x.groupby('Neighborhood')['LotFrontage'].transform(lambda x: x.fillna(x.median()))\n",
    "\n",
    "# 欠損値がfloat型\n",
    "na_floats = all_x[na_columns].dtypes[all_x[na_columns].dtypes == 'float64'].index.tolist()\n",
    "all_x[na_floats] = all_x[na_floats].fillna(0)\n",
    "\n",
    " # 欠損値がobject型\n",
    "na_objects = all_x[na_columns].dtypes[all_x[na_columns].dtypes == 'object'].index.tolist()\n",
    "all_x[na_objects] = all_x[na_objects].fillna('None')\n",
    "\n",
    "all_x.isnull().sum()[all_x.isnull().sum() > 0]"
   ]
  },
  {
   "cell_type": "code",
   "execution_count": null,
   "metadata": {},
   "outputs": [],
   "source": [
    "# カテゴリ変数に変換\n",
    "all_x['MSSubClass'] = all_x['MSSubClass'].astype(str)\n",
    "\n",
    "# 売れた年と月は関係なさそうなのでdrop\n",
    "all_x = all_x.drop(['YrSold', 'MoSold'],axis=1)"
   ]
  },
  {
   "cell_type": "code",
   "execution_count": null,
   "metadata": {},
   "outputs": [],
   "source": [
    "sns.distplot(train_y)\n",
    "plt.show()\n",
    "# 目的変数を対数変換する\n",
    "train_y_log = np.log1p(train_y)\n",
    "sns.distplot(train_y_log)\n",
    "plt.show()\n"
   ]
  },
  {
   "cell_type": "code",
   "execution_count": null,
   "metadata": {},
   "outputs": [],
   "source": [
    "# 特徴量追加\n",
    "\n",
    "# 部屋の広さの合計\n",
    "all_x[\"TotalSF\"] = all_x[\"1stFlrSF\"] + all_x[\"2ndFlrSF\"] + all_x[\"TotalBsmtSF\"]\n",
    "\n",
    "# 1部屋あたりの広さ\n",
    "all_x[\"FeetPerRoom\"] =  all_x[\"TotalSF\"] / all_x[\"TotRmsAbvGrd\"]\n",
    "\n",
    "#バスルームの合計面積\n",
    "all_x['Total_Bathrooms'] = (all_x['FullBath'] + (0.5 * all_x['HalfBath']) +\n",
    "                               all_x['BsmtFullBath'] + (0.5 * all_x['BsmtHalfBath']))\n",
    "\n",
    "# 2Fの有無\n",
    "all_x['Has2F'] = all_x['2ndFlrSF'].apply(lambda x: 1 if x >= 1 else 0)\n",
    "\n",
    "# プールの有無\n",
    "all_x['HasPool'] = all_x['PoolArea'].apply(lambda x: 1 if x >= 1 else 0)\n",
    "\n",
    "#ガレージの有無\n",
    "all_x['HasGarage'] = all_x['GarageArea'].apply(lambda x: 1 if x > 0 else 0)\n",
    "\n",
    "#地下室の有無\n",
    "all_x['HasBsmt'] = all_x['TotalBsmtSF'].apply(lambda x: 1 if x > 0 else 0)\n",
    "\n",
    "#暖炉の有無\n",
    "all_x['HasFireplace'] = all_x['Fireplaces'].apply(lambda x: 1 if x > 0 else 0)\n",
    "\n"
   ]
  },
  {
   "cell_type": "code",
   "execution_count": null,
   "metadata": {},
   "outputs": [],
   "source": [
    "# カテゴリ変数の処理\n",
    "\n",
    "category_columns = all_x.dtypes[all_x.dtypes==\"object\"].index.tolist()\n",
    "\n",
    "# one hot encording\n",
    "all_x = pd.get_dummies(all_x,columns=category_columns)\n",
    "print(all_x.columns)"
   ]
  },
  {
   "cell_type": "code",
   "execution_count": null,
   "metadata": {},
   "outputs": [],
   "source": [
    "#学習データとテストデータに再分割\n",
    "train_x = all_x.iloc[:train_x.shape[0],:].reset_index(drop=True)\n",
    "test = all_x.iloc[train_x.shape[0]:,:].reset_index(drop=True)"
   ]
  },
  {
   "cell_type": "code",
   "execution_count": null,
   "metadata": {},
   "outputs": [],
   "source": [
    "# XGBOOSTのモデル作る\n",
    "from sklearn.ensemble import RandomForestRegressor,  GradientBoostingRegressor\n",
    "from sklearn.model_selection import KFold, cross_val_score, train_test_split\n",
    "from sklearn.metrics import mean_squared_error\n",
    "import xgboost as xgb\n",
    "from sklearn.model_selection import GridSearchCV\n",
    "import lightgbm as lgb\n",
    "\n",
    "\n",
    "# トレーニングを評価データに分ける\n",
    "train_x, valid_x, train_y, valid_y = train_test_split(train_x, train_y, test_size=0.4, random_state=999)\n",
    "\n",
    "# 勾配ブースティングに対応させる\n",
    "dtrain = xgb.DMatrix(train_x, label=train_y)\n",
    "dvalid = xgb.DMatrix(valid_x, label=valid_y)\n",
    "\n",
    "# ハイパーパラメータ\n",
    "evals = [(dvalid, 'eval'), (dtrain, 'train')]\n",
    "\n",
    "evals_result = {}\n",
    "\n",
    "param = {\n",
    "    'max_depth': 3, \n",
    "    'eta': 0.01,\n",
    "    'objective': 'reg:reg:squarederror',\n",
    "}\n",
    "\n",
    "# 学習\n",
    "bst=xgb.train(param, dtrain, num_boost_round=133)\n"
   ]
  }
 ],
 "metadata": {
  "kernelspec": {
   "display_name": "Python 3",
   "language": "python",
   "name": "python3"
  },
  "language_info": {
   "codemirror_mode": {
    "name": "ipython",
    "version": 3
   },
   "file_extension": ".py",
   "mimetype": "text/x-python",
   "name": "python",
   "nbconvert_exporter": "python",
   "pygments_lexer": "ipython3",
   "version": "3.8.3"
  }
 },
 "nbformat": 4,
 "nbformat_minor": 4
}
