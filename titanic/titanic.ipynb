{
 "cells": [
  {
   "cell_type": "code",
   "execution_count": 272,
   "metadata": {},
   "outputs": [],
   "source": [
    "import pandas as pd\n",
    "import matplotlib.pyplot as plt\n",
    "import seaborn as sns\n",
    "import numpy as np\n",
    "import pandas_profiling as pdp\n",
    "\n",
    "# csv read\n",
    "train = pd.read_csv('data/train.csv')\n",
    "test  = pd.read_csv('data/test.csv')\n",
    "\n",
    "# trandform sex to 0, 1\n",
    "train['Sex'] = train['Sex'].map(lambda x: 0 if  x == 'male' else 1)\n",
    "\n",
    "# transform nan of Age to median\n",
    "train['Age'].fillna(train['Age'].median(), inplace=True)\n",
    "\n",
    "# delete nan of Emberked\n",
    "train = train[train['Embarked'].notnull()]\n",
    "\n",
    "# create feature Family\n",
    "train['Family'] = train['SibSp'] + train['Parch'] + 1\n",
    "\n",
    "# create feature Alone\n",
    "train['Alone'] = train['Family'].map(lambda x: 1 if  x == 1 else 0)\n",
    "\n",
    "def transform_features(data):\n",
    "    # trandform sex to 0, 1\n",
    "    data['Sex'] = data['Sex'].map(lambda x: 0 if  x == 'male' else 1)\n",
    "\n",
    "    # transform nan of Age to median\n",
    "    train['Age'].fillna(train['Age'].median(), inplace=True)\n",
    "\n",
    "    # delete nan of Emberked\n",
    "    train = train[train['Embarked'].notnull()]\n",
    "\n",
    "    # create feature Family\n",
    "    train['Family'] = train['SibSp'] + train['Parch'] + 1\n",
    "\n",
    "    # create feature Alone\n",
    "    train['Alone'] = train['Family'].map(lambda x: 1 if  x == 1 else 0)   \n",
    "\n",
    "def display_survived_of_sex():\n",
    "    sns.countplot(x='Sex', hue='Survived', data=train)\n",
    "    plt.legend(['Dead', 'Servived'])\n",
    "    plt.xticks([0, 1], ['Male', 'Female'])\n",
    "    plt.show()\n",
    "    display(pd.crosstab(train['Sex'], train['Survived']))\n",
    "    display(pd.crosstab(train['Sex'], train['Survived'], normalize='index'))\n",
    "#display_survived_of_sex()\n",
    "\n",
    "\n",
    "def display_survived_of_pclass():\n",
    "    sns.countplot(x='Pclass', hue='Survived', data=train, palette='Set3')\n",
    "    plt.title('Servived per Pclass')\n",
    "    plt.legend(['Dead', 'Servived'])\n",
    "    plt.show()\n",
    "\n",
    "    display(pd.crosstab(train['Pclass'], train['Survived']))\n",
    "    display(pd.crosstab(train['Pclass'], train['Survived'], normalize='index'))\n",
    "#display_survived_of_pclass()\n",
    "\n",
    "def create_survived_per_pclass():\n",
    "    # 生存者の割合をチケットクラスごとに出す\n",
    "    # クラスごとの総数\n",
    "    pclass_1 = train.query('Pclass == 1')\n",
    "    pclass_2 = train.query('Pclass == 2')\n",
    "    pclass_3 = train.query('Pclass == 3')\n",
    "    # クラスごとの生存者数のパーセントの特徴量を追加\n",
    "    train.loc[train['Pclass'] == 1, 'Servived_Per_Pclass'] = pclass_1.query('Survived == 1').shape[0] / pclass_1.shape[0] \n",
    "    train.loc[train['Pclass'] == 2, 'Servived_Per_Pclass'] = pclass_2.query('Survived == 1').shape[0] / pclass_2.shape[0] \n",
    "    train.loc[train['Pclass'] == 3, 'Servived_Per_Pclass'] = pclass_3.query('Survived == 1').shape[0] / pclass_3.shape[0] \n",
    "create_survived_per_pclass()\n",
    "\n",
    "def display_histogram_of_age_and_survived():\n",
    "    # Age\n",
    "    sns.distplot(train['Age'].dropna(), kde=False, bins=30, label='All')\n",
    "    \n",
    "    # Survived(dead)\n",
    "    dead = train.query('Survived == 0')\n",
    "    sns.distplot(dead['Age'].dropna(), kde=False, bins=30, label='Dead')\n",
    "    \n",
    "    # Survived(Survived)\n",
    "    survived = train.query('Survived == 1')\n",
    "    sns.distplot(survived['Age'].dropna(), kde=False, bins=30, label='Servived')\n",
    "    plt.title('Age histogram')\n",
    "    plt.legend()\n",
    "#display_histogram_of_age_and_survived()\n",
    "\n",
    "# create feature CategoricalAge(Age cut 8)\n",
    "#train['CategoricalAge'] = pd.cut(train['Age'], 8)\n",
    "bins = 8\n",
    "train['CategoricalAge'] = pd.cut(train['Age'], bins, labels=[f'bin_{i}' for i in range(bins)])\n",
    "\n",
    "def display_categorical_age():\n",
    "    sns.countplot(x='CategoricalAge', hue='Survived', data=train)\n",
    "    plt.title('CategoricalAge')\n",
    "    plt.show()\n",
    "    display(pd.crosstab(train['CategoricalAge'], train['Survived']))\n",
    "    display(pd.crosstab(train['CategoricalAge'], train['Survived'], normalize='index'))\n",
    "#display_categorical_age()"
   ]
  },
  {
   "cell_type": "code",
   "execution_count": 272,
   "metadata": {},
   "outputs": [],
   "source": [
    "\n",
    "\n",
    "\n"
   ]
  },
  {
   "cell_type": "markdown",
   "metadata": {},
   "source": [
    "## グラフとクロスタブから読み取れること\n",
    "* 10.368以下は生存率の方が高い\n",
    "* 20.315 ~ 30.263の間、60.105 ~ はかなり死亡率が高い  \n",
    "→ 子供を庇ったとかあるのか？"
   ]
  },
  {
   "cell_type": "code",
   "execution_count": 273,
   "metadata": {},
   "outputs": [
    {
     "output_type": "display_data",
     "data": {
      "text/plain": "Survived         0    1\nSibSp_Overlap          \n0              398  208\n1               97  112\n2               54   20",
      "text/html": "<div>\n<style scoped>\n    .dataframe tbody tr th:only-of-type {\n        vertical-align: middle;\n    }\n\n    .dataframe tbody tr th {\n        vertical-align: top;\n    }\n\n    .dataframe thead th {\n        text-align: right;\n    }\n</style>\n<table border=\"1\" class=\"dataframe\">\n  <thead>\n    <tr style=\"text-align: right;\">\n      <th>Survived</th>\n      <th>0</th>\n      <th>1</th>\n    </tr>\n    <tr>\n      <th>SibSp_Overlap</th>\n      <th></th>\n      <th></th>\n    </tr>\n  </thead>\n  <tbody>\n    <tr>\n      <th>0</th>\n      <td>398</td>\n      <td>208</td>\n    </tr>\n    <tr>\n      <th>1</th>\n      <td>97</td>\n      <td>112</td>\n    </tr>\n    <tr>\n      <th>2</th>\n      <td>54</td>\n      <td>20</td>\n    </tr>\n  </tbody>\n</table>\n</div>"
     },
     "metadata": {}
    },
    {
     "output_type": "display_data",
     "data": {
      "text/plain": "Survived              0         1\nSibSp_Overlap                    \n0              0.656766  0.343234\n1              0.464115  0.535885\n2              0.729730  0.270270",
      "text/html": "<div>\n<style scoped>\n    .dataframe tbody tr th:only-of-type {\n        vertical-align: middle;\n    }\n\n    .dataframe tbody tr th {\n        vertical-align: top;\n    }\n\n    .dataframe thead th {\n        text-align: right;\n    }\n</style>\n<table border=\"1\" class=\"dataframe\">\n  <thead>\n    <tr style=\"text-align: right;\">\n      <th>Survived</th>\n      <th>0</th>\n      <th>1</th>\n    </tr>\n    <tr>\n      <th>SibSp_Overlap</th>\n      <th></th>\n      <th></th>\n    </tr>\n  </thead>\n  <tbody>\n    <tr>\n      <th>0</th>\n      <td>0.656766</td>\n      <td>0.343234</td>\n    </tr>\n    <tr>\n      <th>1</th>\n      <td>0.464115</td>\n      <td>0.535885</td>\n    </tr>\n    <tr>\n      <th>2</th>\n      <td>0.729730</td>\n      <td>0.270270</td>\n    </tr>\n  </tbody>\n</table>\n</div>"
     },
     "metadata": {}
    }
   ],
   "source": [
    "#pdp.ProfileReport(train)\n",
    "# 兄弟、配偶者\n",
    "#sns.countplot(x='SibSp', data=train)\n",
    "#plt.title('sibsp')\n",
    "\n",
    "# 連れが2人以上は少ないので、連れが0, 1, 2以上で分けた特徴量を生成する\n",
    "train['SibSp_Overlap'] = [i if i <= 1 else 2 for i in train['SibSp']]\n",
    "display(pd.crosstab(train['SibSp_Overlap'], train['Survived']))\n",
    "display(pd.crosstab(train['SibSp_Overlap'], train['Survived'], normalize='index'))\n",
    "\n",
    "# SibSp_0_1_2overごとに集計し、可視化\n",
    "#sns.countplot(x='SibSp_Overlap', hue='Survived', data=train)\n",
    "#plt.legend(['Dead', 'Survived'])\n",
    "#plt.xticks([0, 1, 2], ['0', '1', '>=2'])\n",
    "#plt.title('SibSb and Survived')\n",
    "#plt.show()\n"
   ]
  },
  {
   "cell_type": "code",
   "execution_count": 274,
   "metadata": {},
   "outputs": [
    {
     "output_type": "display_data",
     "data": {
      "text/plain": "Survived         0    1\nParch_Overlap          \n0              445  231\n1               53   65\n2               40   40\n3               11    4",
      "text/html": "<div>\n<style scoped>\n    .dataframe tbody tr th:only-of-type {\n        vertical-align: middle;\n    }\n\n    .dataframe tbody tr th {\n        vertical-align: top;\n    }\n\n    .dataframe thead th {\n        text-align: right;\n    }\n</style>\n<table border=\"1\" class=\"dataframe\">\n  <thead>\n    <tr style=\"text-align: right;\">\n      <th>Survived</th>\n      <th>0</th>\n      <th>1</th>\n    </tr>\n    <tr>\n      <th>Parch_Overlap</th>\n      <th></th>\n      <th></th>\n    </tr>\n  </thead>\n  <tbody>\n    <tr>\n      <th>0</th>\n      <td>445</td>\n      <td>231</td>\n    </tr>\n    <tr>\n      <th>1</th>\n      <td>53</td>\n      <td>65</td>\n    </tr>\n    <tr>\n      <th>2</th>\n      <td>40</td>\n      <td>40</td>\n    </tr>\n    <tr>\n      <th>3</th>\n      <td>11</td>\n      <td>4</td>\n    </tr>\n  </tbody>\n</table>\n</div>"
     },
     "metadata": {}
    },
    {
     "output_type": "display_data",
     "data": {
      "text/plain": "Survived              0         1\nParch_Overlap                    \n0              0.658284  0.341716\n1              0.449153  0.550847\n2              0.500000  0.500000\n3              0.733333  0.266667",
      "text/html": "<div>\n<style scoped>\n    .dataframe tbody tr th:only-of-type {\n        vertical-align: middle;\n    }\n\n    .dataframe tbody tr th {\n        vertical-align: top;\n    }\n\n    .dataframe thead th {\n        text-align: right;\n    }\n</style>\n<table border=\"1\" class=\"dataframe\">\n  <thead>\n    <tr style=\"text-align: right;\">\n      <th>Survived</th>\n      <th>0</th>\n      <th>1</th>\n    </tr>\n    <tr>\n      <th>Parch_Overlap</th>\n      <th></th>\n      <th></th>\n    </tr>\n  </thead>\n  <tbody>\n    <tr>\n      <th>0</th>\n      <td>0.658284</td>\n      <td>0.341716</td>\n    </tr>\n    <tr>\n      <th>1</th>\n      <td>0.449153</td>\n      <td>0.550847</td>\n    </tr>\n    <tr>\n      <th>2</th>\n      <td>0.500000</td>\n      <td>0.500000</td>\n    </tr>\n    <tr>\n      <th>3</th>\n      <td>0.733333</td>\n      <td>0.266667</td>\n    </tr>\n  </tbody>\n</table>\n</div>"
     },
     "metadata": {}
    },
    {
     "output_type": "display_data",
     "data": {
      "text/plain": "<Figure size 576x396 with 1 Axes>",
      "image/svg+xml": "<?xml version=\"1.0\" encoding=\"utf-8\" standalone=\"no\"?>\n<!DOCTYPE svg PUBLIC \"-//W3C//DTD SVG 1.1//EN\"\n  \"http://www.w3.org/Graphics/SVG/1.1/DTD/svg11.dtd\">\n<!-- Created with matplotlib (https://matplotlib.org/) -->\n<svg height=\"347.226094pt\" version=\"1.1\" viewBox=\"0 0 502.042656 347.226094\" width=\"502.042656pt\" xmlns=\"http://www.w3.org/2000/svg\" xmlns:xlink=\"http://www.w3.org/1999/xlink\">\n <defs>\n  <style type=\"text/css\">\n*{stroke-linecap:butt;stroke-linejoin:round;}\n  </style>\n </defs>\n <g id=\"figure_1\">\n  <g id=\"patch_1\">\n   <path d=\"M 0 347.226094 \nL 502.042656 347.226094 \nL 502.042656 0 \nL 0 0 \nz\n\" style=\"fill:#ffffff;\"/>\n  </g>\n  <g id=\"axes_1\">\n   <g id=\"patch_2\">\n    <path d=\"M 48.442656 306.18 \nL 494.842656 306.18 \nL 494.842656 7.2 \nL 48.442656 7.2 \nz\n\" style=\"fill:#ffffff;\"/>\n   </g>\n   <g id=\"matplotlib.axis_1\">\n    <g id=\"xtick_1\">\n     <g id=\"text_1\">\n      <!-- 0 -->\n      <defs>\n       <path d=\"M 4.15625 35.296875 \nQ 4.15625 48 6.765625 55.734375 \nQ 9.375 63.484375 14.515625 67.671875 \nQ 19.671875 71.875 27.484375 71.875 \nQ 33.25 71.875 37.59375 69.546875 \nQ 41.9375 67.234375 44.765625 62.859375 \nQ 47.609375 58.5 49.21875 52.21875 \nQ 50.828125 45.953125 50.828125 35.296875 \nQ 50.828125 22.703125 48.234375 14.96875 \nQ 45.65625 7.234375 40.5 3 \nQ 35.359375 -1.21875 27.484375 -1.21875 \nQ 17.140625 -1.21875 11.234375 6.203125 \nQ 4.15625 15.140625 4.15625 35.296875 \nz\nM 13.1875 35.296875 \nQ 13.1875 17.671875 17.3125 11.828125 \nQ 21.4375 6 27.484375 6 \nQ 33.546875 6 37.671875 11.859375 \nQ 41.796875 17.71875 41.796875 35.296875 \nQ 41.796875 52.984375 37.671875 58.78125 \nQ 33.546875 64.59375 27.390625 64.59375 \nQ 21.34375 64.59375 17.71875 59.46875 \nQ 13.1875 52.9375 13.1875 35.296875 \nz\n\" id=\"ArialMT-48\"/>\n      </defs>\n      <g style=\"fill:#262626;\" transform=\"translate(101.462187 323.837812)scale(0.1 -0.1)\">\n       <use xlink:href=\"#ArialMT-48\"/>\n      </g>\n     </g>\n    </g>\n    <g id=\"xtick_2\">\n     <g id=\"text_2\">\n      <!-- 1 -->\n      <defs>\n       <path d=\"M 37.25 0 \nL 28.46875 0 \nL 28.46875 56 \nQ 25.296875 52.984375 20.140625 49.953125 \nQ 14.984375 46.921875 10.890625 45.40625 \nL 10.890625 53.90625 \nQ 18.265625 57.375 23.78125 62.296875 \nQ 29.296875 67.234375 31.59375 71.875 \nL 37.25 71.875 \nz\n\" id=\"ArialMT-49\"/>\n      </defs>\n      <g style=\"fill:#262626;\" transform=\"translate(213.062187 323.837812)scale(0.1 -0.1)\">\n       <use xlink:href=\"#ArialMT-49\"/>\n      </g>\n     </g>\n    </g>\n    <g id=\"xtick_3\">\n     <g id=\"text_3\">\n      <!-- 2 -->\n      <defs>\n       <path d=\"M 50.34375 8.453125 \nL 50.34375 0 \nL 3.03125 0 \nQ 2.9375 3.171875 4.046875 6.109375 \nQ 5.859375 10.9375 9.828125 15.625 \nQ 13.8125 20.3125 21.34375 26.46875 \nQ 33.015625 36.03125 37.109375 41.625 \nQ 41.21875 47.21875 41.21875 52.203125 \nQ 41.21875 57.421875 37.46875 61 \nQ 33.734375 64.59375 27.734375 64.59375 \nQ 21.390625 64.59375 17.578125 60.78125 \nQ 13.765625 56.984375 13.71875 50.25 \nL 4.6875 51.171875 \nQ 5.609375 61.28125 11.65625 66.578125 \nQ 17.71875 71.875 27.9375 71.875 \nQ 38.234375 71.875 44.234375 66.15625 \nQ 50.25 60.453125 50.25 52 \nQ 50.25 47.703125 48.484375 43.546875 \nQ 46.734375 39.40625 42.65625 34.8125 \nQ 38.578125 30.21875 29.109375 22.21875 \nQ 21.1875 15.578125 18.9375 13.203125 \nQ 16.703125 10.84375 15.234375 8.453125 \nz\n\" id=\"ArialMT-50\"/>\n      </defs>\n      <g style=\"fill:#262626;\" transform=\"translate(324.662187 323.837812)scale(0.1 -0.1)\">\n       <use xlink:href=\"#ArialMT-50\"/>\n      </g>\n     </g>\n    </g>\n    <g id=\"xtick_4\">\n     <g id=\"text_4\">\n      <!-- 3 -->\n      <defs>\n       <path d=\"M 4.203125 18.890625 \nL 12.984375 20.0625 \nQ 14.5 12.59375 18.140625 9.296875 \nQ 21.78125 6 27 6 \nQ 33.203125 6 37.46875 10.296875 \nQ 41.75 14.59375 41.75 20.953125 \nQ 41.75 27 37.796875 30.921875 \nQ 33.84375 34.859375 27.734375 34.859375 \nQ 25.25 34.859375 21.53125 33.890625 \nL 22.515625 41.609375 \nQ 23.390625 41.5 23.921875 41.5 \nQ 29.546875 41.5 34.03125 44.421875 \nQ 38.53125 47.359375 38.53125 53.46875 \nQ 38.53125 58.296875 35.25 61.46875 \nQ 31.984375 64.65625 26.8125 64.65625 \nQ 21.6875 64.65625 18.265625 61.421875 \nQ 14.84375 58.203125 13.875 51.765625 \nL 5.078125 53.328125 \nQ 6.6875 62.15625 12.390625 67.015625 \nQ 18.109375 71.875 26.609375 71.875 \nQ 32.46875 71.875 37.390625 69.359375 \nQ 42.328125 66.84375 44.9375 62.5 \nQ 47.5625 58.15625 47.5625 53.265625 \nQ 47.5625 48.640625 45.0625 44.828125 \nQ 42.578125 41.015625 37.703125 38.765625 \nQ 44.046875 37.3125 47.5625 32.6875 \nQ 51.078125 28.078125 51.078125 21.140625 \nQ 51.078125 11.765625 44.234375 5.25 \nQ 37.40625 -1.265625 26.953125 -1.265625 \nQ 17.53125 -1.265625 11.296875 4.34375 \nQ 5.078125 9.96875 4.203125 18.890625 \nz\n\" id=\"ArialMT-51\"/>\n      </defs>\n      <g style=\"fill:#262626;\" transform=\"translate(436.262187 323.837812)scale(0.1 -0.1)\">\n       <use xlink:href=\"#ArialMT-51\"/>\n      </g>\n     </g>\n    </g>\n    <g id=\"text_5\">\n     <!-- Parch_Overlap -->\n     <defs>\n      <path d=\"M 7.71875 0 \nL 7.71875 71.578125 \nL 34.71875 71.578125 \nQ 41.84375 71.578125 45.609375 70.90625 \nQ 50.875 70.015625 54.4375 67.546875 \nQ 58.015625 65.09375 60.1875 60.640625 \nQ 62.359375 56.203125 62.359375 50.875 \nQ 62.359375 41.75 56.546875 35.421875 \nQ 50.734375 29.109375 35.546875 29.109375 \nL 17.1875 29.109375 \nL 17.1875 0 \nz\nM 17.1875 37.546875 \nL 35.6875 37.546875 \nQ 44.875 37.546875 48.734375 40.96875 \nQ 52.59375 44.390625 52.59375 50.59375 \nQ 52.59375 55.078125 50.3125 58.265625 \nQ 48.046875 61.46875 44.34375 62.5 \nQ 41.9375 63.140625 35.5 63.140625 \nL 17.1875 63.140625 \nz\n\" id=\"ArialMT-80\"/>\n      <path d=\"M 40.4375 6.390625 \nQ 35.546875 2.25 31.03125 0.53125 \nQ 26.515625 -1.171875 21.34375 -1.171875 \nQ 12.796875 -1.171875 8.203125 3 \nQ 3.609375 7.171875 3.609375 13.671875 \nQ 3.609375 17.484375 5.34375 20.625 \nQ 7.078125 23.78125 9.890625 25.6875 \nQ 12.703125 27.59375 16.21875 28.5625 \nQ 18.796875 29.25 24.03125 29.890625 \nQ 34.671875 31.15625 39.703125 32.90625 \nQ 39.75 34.71875 39.75 35.203125 \nQ 39.75 40.578125 37.25 42.78125 \nQ 33.890625 45.75 27.25 45.75 \nQ 21.046875 45.75 18.09375 43.578125 \nQ 15.140625 41.40625 13.71875 35.890625 \nL 5.125 37.0625 \nQ 6.296875 42.578125 8.984375 45.96875 \nQ 11.671875 49.359375 16.75 51.1875 \nQ 21.828125 53.03125 28.515625 53.03125 \nQ 35.15625 53.03125 39.296875 51.46875 \nQ 43.453125 49.90625 45.40625 47.53125 \nQ 47.359375 45.171875 48.140625 41.546875 \nQ 48.578125 39.3125 48.578125 33.453125 \nL 48.578125 21.734375 \nQ 48.578125 9.46875 49.140625 6.21875 \nQ 49.703125 2.984375 51.375 0 \nL 42.1875 0 \nQ 40.828125 2.734375 40.4375 6.390625 \nz\nM 39.703125 26.03125 \nQ 34.90625 24.078125 25.34375 22.703125 \nQ 19.921875 21.921875 17.671875 20.9375 \nQ 15.4375 19.96875 14.203125 18.09375 \nQ 12.984375 16.21875 12.984375 13.921875 \nQ 12.984375 10.40625 15.640625 8.0625 \nQ 18.3125 5.71875 23.4375 5.71875 \nQ 28.515625 5.71875 32.46875 7.9375 \nQ 36.421875 10.15625 38.28125 14.015625 \nQ 39.703125 17 39.703125 22.796875 \nz\n\" id=\"ArialMT-97\"/>\n      <path d=\"M 6.5 0 \nL 6.5 51.859375 \nL 14.40625 51.859375 \nL 14.40625 44 \nQ 17.4375 49.515625 20 51.265625 \nQ 22.5625 53.03125 25.640625 53.03125 \nQ 30.078125 53.03125 34.671875 50.203125 \nL 31.640625 42.046875 \nQ 28.421875 43.953125 25.203125 43.953125 \nQ 22.3125 43.953125 20.015625 42.21875 \nQ 17.71875 40.484375 16.75 37.40625 \nQ 15.28125 32.71875 15.28125 27.15625 \nL 15.28125 0 \nz\n\" id=\"ArialMT-114\"/>\n      <path d=\"M 40.4375 19 \nL 49.078125 17.875 \nQ 47.65625 8.9375 41.8125 3.875 \nQ 35.984375 -1.171875 27.484375 -1.171875 \nQ 16.84375 -1.171875 10.375 5.78125 \nQ 3.90625 12.75 3.90625 25.734375 \nQ 3.90625 34.125 6.6875 40.421875 \nQ 9.46875 46.734375 15.15625 49.875 \nQ 20.84375 53.03125 27.546875 53.03125 \nQ 35.984375 53.03125 41.359375 48.75 \nQ 46.734375 44.484375 48.25 36.625 \nL 39.703125 35.296875 \nQ 38.484375 40.53125 35.375 43.15625 \nQ 32.28125 45.796875 27.875 45.796875 \nQ 21.234375 45.796875 17.078125 41.03125 \nQ 12.9375 36.28125 12.9375 25.984375 \nQ 12.9375 15.53125 16.9375 10.796875 \nQ 20.953125 6.0625 27.390625 6.0625 \nQ 32.5625 6.0625 36.03125 9.234375 \nQ 39.5 12.40625 40.4375 19 \nz\n\" id=\"ArialMT-99\"/>\n      <path d=\"M 6.59375 0 \nL 6.59375 71.578125 \nL 15.375 71.578125 \nL 15.375 45.90625 \nQ 21.53125 53.03125 30.90625 53.03125 \nQ 36.671875 53.03125 40.921875 50.75 \nQ 45.171875 48.484375 47 44.484375 \nQ 48.828125 40.484375 48.828125 32.859375 \nL 48.828125 0 \nL 40.046875 0 \nL 40.046875 32.859375 \nQ 40.046875 39.453125 37.1875 42.453125 \nQ 34.328125 45.453125 29.109375 45.453125 \nQ 25.203125 45.453125 21.75 43.421875 \nQ 18.3125 41.40625 16.84375 37.9375 \nQ 15.375 34.46875 15.375 28.375 \nL 15.375 0 \nz\n\" id=\"ArialMT-104\"/>\n      <path d=\"M -1.515625 -19.875 \nL -1.515625 -13.53125 \nL 56.734375 -13.53125 \nL 56.734375 -19.875 \nz\n\" id=\"ArialMT-95\"/>\n      <path d=\"M 4.828125 34.859375 \nQ 4.828125 52.6875 14.390625 62.765625 \nQ 23.96875 72.859375 39.109375 72.859375 \nQ 49.03125 72.859375 56.984375 68.109375 \nQ 64.9375 63.375 69.109375 54.90625 \nQ 73.296875 46.4375 73.296875 35.6875 \nQ 73.296875 24.8125 68.890625 16.21875 \nQ 64.5 7.625 56.4375 3.203125 \nQ 48.390625 -1.21875 39.0625 -1.21875 \nQ 28.953125 -1.21875 20.984375 3.65625 \nQ 13.03125 8.546875 8.921875 16.984375 \nQ 4.828125 25.4375 4.828125 34.859375 \nz\nM 14.59375 34.71875 \nQ 14.59375 21.78125 21.546875 14.328125 \nQ 28.515625 6.890625 39.015625 6.890625 \nQ 49.703125 6.890625 56.609375 14.40625 \nQ 63.53125 21.921875 63.53125 35.75 \nQ 63.53125 44.484375 60.578125 51 \nQ 57.625 57.515625 51.921875 61.109375 \nQ 46.234375 64.703125 39.15625 64.703125 \nQ 29.109375 64.703125 21.84375 57.78125 \nQ 14.59375 50.875 14.59375 34.71875 \nz\n\" id=\"ArialMT-79\"/>\n      <path d=\"M 21 0 \nL 1.265625 51.859375 \nL 10.546875 51.859375 \nL 21.6875 20.796875 \nQ 23.484375 15.765625 25 10.359375 \nQ 26.171875 14.453125 28.265625 20.21875 \nL 39.796875 51.859375 \nL 48.828125 51.859375 \nL 29.203125 0 \nz\n\" id=\"ArialMT-118\"/>\n      <path d=\"M 42.09375 16.703125 \nL 51.171875 15.578125 \nQ 49.03125 7.625 43.21875 3.21875 \nQ 37.40625 -1.171875 28.375 -1.171875 \nQ 17 -1.171875 10.328125 5.828125 \nQ 3.65625 12.84375 3.65625 25.484375 \nQ 3.65625 38.578125 10.390625 45.796875 \nQ 17.140625 53.03125 27.875 53.03125 \nQ 38.28125 53.03125 44.875 45.953125 \nQ 51.46875 38.875 51.46875 26.03125 \nQ 51.46875 25.25 51.421875 23.6875 \nL 12.75 23.6875 \nQ 13.234375 15.140625 17.578125 10.59375 \nQ 21.921875 6.0625 28.421875 6.0625 \nQ 33.25 6.0625 36.671875 8.59375 \nQ 40.09375 11.140625 42.09375 16.703125 \nz\nM 13.234375 30.90625 \nL 42.1875 30.90625 \nQ 41.609375 37.453125 38.875 40.71875 \nQ 34.671875 45.796875 27.984375 45.796875 \nQ 21.921875 45.796875 17.796875 41.75 \nQ 13.671875 37.703125 13.234375 30.90625 \nz\n\" id=\"ArialMT-101\"/>\n      <path d=\"M 6.390625 0 \nL 6.390625 71.578125 \nL 15.1875 71.578125 \nL 15.1875 0 \nz\n\" id=\"ArialMT-108\"/>\n      <path d=\"M 6.59375 -19.875 \nL 6.59375 51.859375 \nL 14.59375 51.859375 \nL 14.59375 45.125 \nQ 17.4375 49.078125 21 51.046875 \nQ 24.5625 53.03125 29.640625 53.03125 \nQ 36.28125 53.03125 41.359375 49.609375 \nQ 46.4375 46.1875 49.015625 39.953125 \nQ 51.609375 33.734375 51.609375 26.3125 \nQ 51.609375 18.359375 48.75 11.984375 \nQ 45.90625 5.609375 40.453125 2.21875 \nQ 35.015625 -1.171875 29 -1.171875 \nQ 24.609375 -1.171875 21.109375 0.6875 \nQ 17.625 2.546875 15.375 5.375 \nL 15.375 -19.875 \nz\nM 14.546875 25.640625 \nQ 14.546875 15.625 18.59375 10.84375 \nQ 22.65625 6.0625 28.421875 6.0625 \nQ 34.28125 6.0625 38.453125 11.015625 \nQ 42.625 15.96875 42.625 26.375 \nQ 42.625 36.28125 38.546875 41.203125 \nQ 34.46875 46.140625 28.8125 46.140625 \nQ 23.1875 46.140625 18.859375 40.890625 \nQ 14.546875 35.640625 14.546875 25.640625 \nz\n\" id=\"ArialMT-112\"/>\n     </defs>\n     <g style=\"fill:#262626;\" transform=\"translate(234.960234 337.839844)scale(0.11 -0.11)\">\n      <use xlink:href=\"#ArialMT-80\"/>\n      <use x=\"66.699219\" xlink:href=\"#ArialMT-97\"/>\n      <use x=\"122.314453\" xlink:href=\"#ArialMT-114\"/>\n      <use x=\"155.615234\" xlink:href=\"#ArialMT-99\"/>\n      <use x=\"205.615234\" xlink:href=\"#ArialMT-104\"/>\n      <use x=\"261.230469\" xlink:href=\"#ArialMT-95\"/>\n      <use x=\"316.845703\" xlink:href=\"#ArialMT-79\"/>\n      <use x=\"394.628906\" xlink:href=\"#ArialMT-118\"/>\n      <use x=\"444.628906\" xlink:href=\"#ArialMT-101\"/>\n      <use x=\"500.244141\" xlink:href=\"#ArialMT-114\"/>\n      <use x=\"533.544922\" xlink:href=\"#ArialMT-108\"/>\n      <use x=\"555.761719\" xlink:href=\"#ArialMT-97\"/>\n      <use x=\"611.376953\" xlink:href=\"#ArialMT-112\"/>\n     </g>\n    </g>\n   </g>\n   <g id=\"matplotlib.axis_2\">\n    <g id=\"ytick_1\">\n     <g id=\"text_6\">\n      <!-- 0 -->\n      <g style=\"fill:#262626;\" transform=\"translate(32.381719 309.758906)scale(0.1 -0.1)\">\n       <use xlink:href=\"#ArialMT-48\"/>\n      </g>\n     </g>\n    </g>\n    <g id=\"ytick_2\">\n     <g id=\"text_7\">\n      <!-- 100 -->\n      <g style=\"fill:#262626;\" transform=\"translate(21.259844 245.771747)scale(0.1 -0.1)\">\n       <use xlink:href=\"#ArialMT-49\"/>\n       <use x=\"55.615234\" xlink:href=\"#ArialMT-48\"/>\n       <use x=\"111.230469\" xlink:href=\"#ArialMT-48\"/>\n      </g>\n     </g>\n    </g>\n    <g id=\"ytick_3\">\n     <g id=\"text_8\">\n      <!-- 200 -->\n      <g style=\"fill:#262626;\" transform=\"translate(21.259844 181.784588)scale(0.1 -0.1)\">\n       <use xlink:href=\"#ArialMT-50\"/>\n       <use x=\"55.615234\" xlink:href=\"#ArialMT-48\"/>\n       <use x=\"111.230469\" xlink:href=\"#ArialMT-48\"/>\n      </g>\n     </g>\n    </g>\n    <g id=\"ytick_4\">\n     <g id=\"text_9\">\n      <!-- 300 -->\n      <g style=\"fill:#262626;\" transform=\"translate(21.259844 117.79743)scale(0.1 -0.1)\">\n       <use xlink:href=\"#ArialMT-51\"/>\n       <use x=\"55.615234\" xlink:href=\"#ArialMT-48\"/>\n       <use x=\"111.230469\" xlink:href=\"#ArialMT-48\"/>\n      </g>\n     </g>\n    </g>\n    <g id=\"ytick_5\">\n     <g id=\"text_10\">\n      <!-- 400 -->\n      <defs>\n       <path d=\"M 32.328125 0 \nL 32.328125 17.140625 \nL 1.265625 17.140625 \nL 1.265625 25.203125 \nL 33.9375 71.578125 \nL 41.109375 71.578125 \nL 41.109375 25.203125 \nL 50.78125 25.203125 \nL 50.78125 17.140625 \nL 41.109375 17.140625 \nL 41.109375 0 \nz\nM 32.328125 25.203125 \nL 32.328125 57.46875 \nL 9.90625 25.203125 \nz\n\" id=\"ArialMT-52\"/>\n      </defs>\n      <g style=\"fill:#262626;\" transform=\"translate(21.259844 53.810271)scale(0.1 -0.1)\">\n       <use xlink:href=\"#ArialMT-52\"/>\n       <use x=\"55.615234\" xlink:href=\"#ArialMT-48\"/>\n       <use x=\"111.230469\" xlink:href=\"#ArialMT-48\"/>\n      </g>\n     </g>\n    </g>\n    <g id=\"text_11\">\n     <!-- count -->\n     <defs>\n      <path d=\"M 3.328125 25.921875 \nQ 3.328125 40.328125 11.328125 47.265625 \nQ 18.015625 53.03125 27.640625 53.03125 \nQ 38.328125 53.03125 45.109375 46.015625 \nQ 51.90625 39.015625 51.90625 26.65625 \nQ 51.90625 16.65625 48.90625 10.90625 \nQ 45.90625 5.171875 40.15625 2 \nQ 34.421875 -1.171875 27.640625 -1.171875 \nQ 16.75 -1.171875 10.03125 5.8125 \nQ 3.328125 12.796875 3.328125 25.921875 \nz\nM 12.359375 25.921875 \nQ 12.359375 15.96875 16.703125 11.015625 \nQ 21.046875 6.0625 27.640625 6.0625 \nQ 34.1875 6.0625 38.53125 11.03125 \nQ 42.875 16.015625 42.875 26.21875 \nQ 42.875 35.84375 38.5 40.796875 \nQ 34.125 45.75 27.640625 45.75 \nQ 21.046875 45.75 16.703125 40.8125 \nQ 12.359375 35.890625 12.359375 25.921875 \nz\n\" id=\"ArialMT-111\"/>\n      <path d=\"M 40.578125 0 \nL 40.578125 7.625 \nQ 34.515625 -1.171875 24.125 -1.171875 \nQ 19.53125 -1.171875 15.546875 0.578125 \nQ 11.578125 2.34375 9.640625 5 \nQ 7.71875 7.671875 6.9375 11.53125 \nQ 6.390625 14.109375 6.390625 19.734375 \nL 6.390625 51.859375 \nL 15.1875 51.859375 \nL 15.1875 23.09375 \nQ 15.1875 16.21875 15.71875 13.8125 \nQ 16.546875 10.359375 19.234375 8.375 \nQ 21.921875 6.390625 25.875 6.390625 \nQ 29.828125 6.390625 33.296875 8.421875 \nQ 36.765625 10.453125 38.203125 13.9375 \nQ 39.65625 17.4375 39.65625 24.078125 \nL 39.65625 51.859375 \nL 48.4375 51.859375 \nL 48.4375 0 \nz\n\" id=\"ArialMT-117\"/>\n      <path d=\"M 6.59375 0 \nL 6.59375 51.859375 \nL 14.5 51.859375 \nL 14.5 44.484375 \nQ 20.21875 53.03125 31 53.03125 \nQ 35.6875 53.03125 39.625 51.34375 \nQ 43.5625 49.65625 45.515625 46.921875 \nQ 47.46875 44.1875 48.25 40.4375 \nQ 48.734375 37.984375 48.734375 31.890625 \nL 48.734375 0 \nL 39.9375 0 \nL 39.9375 31.546875 \nQ 39.9375 36.921875 38.90625 39.578125 \nQ 37.890625 42.234375 35.28125 43.8125 \nQ 32.671875 45.40625 29.15625 45.40625 \nQ 23.53125 45.40625 19.453125 41.84375 \nQ 15.375 38.28125 15.375 28.328125 \nL 15.375 0 \nz\n\" id=\"ArialMT-110\"/>\n      <path d=\"M 25.78125 7.859375 \nL 27.046875 0.09375 \nQ 23.34375 -0.6875 20.40625 -0.6875 \nQ 15.625 -0.6875 12.984375 0.828125 \nQ 10.359375 2.34375 9.28125 4.8125 \nQ 8.203125 7.28125 8.203125 15.1875 \nL 8.203125 45.015625 \nL 1.765625 45.015625 \nL 1.765625 51.859375 \nL 8.203125 51.859375 \nL 8.203125 64.703125 \nL 16.9375 69.96875 \nL 16.9375 51.859375 \nL 25.78125 51.859375 \nL 25.78125 45.015625 \nL 16.9375 45.015625 \nL 16.9375 14.703125 \nQ 16.9375 10.9375 17.40625 9.859375 \nQ 17.875 8.796875 18.921875 8.15625 \nQ 19.96875 7.515625 21.921875 7.515625 \nQ 23.390625 7.515625 25.78125 7.859375 \nz\n\" id=\"ArialMT-116\"/>\n     </defs>\n     <g style=\"fill:#262626;\" transform=\"translate(15.073594 170.143516)rotate(-90)scale(0.11 -0.11)\">\n      <use xlink:href=\"#ArialMT-99\"/>\n      <use x=\"50\" xlink:href=\"#ArialMT-111\"/>\n      <use x=\"105.615234\" xlink:href=\"#ArialMT-117\"/>\n      <use x=\"161.230469\" xlink:href=\"#ArialMT-110\"/>\n      <use x=\"216.845703\" xlink:href=\"#ArialMT-116\"/>\n     </g>\n    </g>\n   </g>\n   <g id=\"patch_3\">\n    <path clip-path=\"url(#p2f09656acf)\" d=\"M 59.602656 306.18 \nL 104.242656 306.18 \nL 104.242656 21.437143 \nL 59.602656 21.437143 \nz\n\" style=\"fill:#3274a1;stroke:#ffffff;stroke-linejoin:miter;stroke-width:0.3;\"/>\n   </g>\n   <g id=\"patch_4\">\n    <path clip-path=\"url(#p2f09656acf)\" d=\"M 171.202656 306.18 \nL 215.842656 306.18 \nL 215.842656 272.266806 \nL 171.202656 272.266806 \nz\n\" style=\"fill:#3274a1;stroke:#ffffff;stroke-linejoin:miter;stroke-width:0.3;\"/>\n   </g>\n   <g id=\"patch_5\">\n    <path clip-path=\"url(#p2f09656acf)\" d=\"M 282.802656 306.18 \nL 327.442656 306.18 \nL 327.442656 280.585136 \nL 282.802656 280.585136 \nz\n\" style=\"fill:#3274a1;stroke:#ffffff;stroke-linejoin:miter;stroke-width:0.3;\"/>\n   </g>\n   <g id=\"patch_6\">\n    <path clip-path=\"url(#p2f09656acf)\" d=\"M 394.402656 306.18 \nL 439.042656 306.18 \nL 439.042656 299.141413 \nL 394.402656 299.141413 \nz\n\" style=\"fill:#3274a1;stroke:#ffffff;stroke-linejoin:miter;stroke-width:0.3;\"/>\n   </g>\n   <g id=\"patch_7\">\n    <path clip-path=\"url(#p2f09656acf)\" d=\"M 104.242656 306.18 \nL 148.882656 306.18 \nL 148.882656 158.369663 \nL 104.242656 158.369663 \nz\n\" style=\"fill:#e1812c;stroke:#ffffff;stroke-linejoin:miter;stroke-width:0.3;\"/>\n   </g>\n   <g id=\"patch_8\">\n    <path clip-path=\"url(#p2f09656acf)\" d=\"M 215.842656 306.18 \nL 260.482656 306.18 \nL 260.482656 264.588347 \nL 215.842656 264.588347 \nz\n\" style=\"fill:#e1812c;stroke:#ffffff;stroke-linejoin:miter;stroke-width:0.3;\"/>\n   </g>\n   <g id=\"patch_9\">\n    <path clip-path=\"url(#p2f09656acf)\" d=\"M 327.442656 306.18 \nL 372.082656 306.18 \nL 372.082656 280.585136 \nL 327.442656 280.585136 \nz\n\" style=\"fill:#e1812c;stroke:#ffffff;stroke-linejoin:miter;stroke-width:0.3;\"/>\n   </g>\n   <g id=\"patch_10\">\n    <path clip-path=\"url(#p2f09656acf)\" d=\"M 439.042656 306.18 \nL 483.682656 306.18 \nL 483.682656 303.620514 \nL 439.042656 303.620514 \nz\n\" style=\"fill:#e1812c;stroke:#ffffff;stroke-linejoin:miter;stroke-width:0.3;\"/>\n   </g>\n   <g id=\"patch_11\">\n    <path d=\"M 48.442656 306.18 \nL 48.442656 7.2 \n\" style=\"fill:none;\"/>\n   </g>\n   <g id=\"patch_12\">\n    <path d=\"M 494.842656 306.18 \nL 494.842656 7.2 \n\" style=\"fill:none;\"/>\n   </g>\n   <g id=\"patch_13\">\n    <path d=\"M 48.442656 306.18 \nL 494.842656 306.18 \n\" style=\"fill:none;\"/>\n   </g>\n   <g id=\"patch_14\">\n    <path d=\"M 48.442656 7.2 \nL 494.842656 7.2 \n\" style=\"fill:none;\"/>\n   </g>\n   <g id=\"legend_1\">\n    <g id=\"patch_15\">\n     <path d=\"M 444.937969 57.635937 \nL 487.842656 57.635937 \nQ 489.842656 57.635937 489.842656 55.635937 \nL 489.842656 14.2 \nQ 489.842656 12.2 487.842656 12.2 \nL 444.937969 12.2 \nQ 442.937969 12.2 442.937969 14.2 \nL 442.937969 55.635937 \nQ 442.937969 57.635937 444.937969 57.635937 \nz\n\" style=\"fill:#ffffff;opacity:0.8;stroke:#cccccc;stroke-linejoin:miter;stroke-width:0.3;\"/>\n    </g>\n    <g id=\"text_12\">\n     <!-- Survived -->\n     <defs>\n      <path d=\"M 4.5 23 \nL 13.421875 23.78125 \nQ 14.0625 18.40625 16.375 14.96875 \nQ 18.703125 11.53125 23.578125 9.40625 \nQ 28.46875 7.28125 34.578125 7.28125 \nQ 39.984375 7.28125 44.140625 8.890625 \nQ 48.296875 10.5 50.3125 13.296875 \nQ 52.34375 16.109375 52.34375 19.4375 \nQ 52.34375 22.796875 50.390625 25.3125 \nQ 48.4375 27.828125 43.953125 29.546875 \nQ 41.0625 30.671875 31.203125 33.03125 \nQ 21.34375 35.40625 17.390625 37.5 \nQ 12.25 40.1875 9.734375 44.15625 \nQ 7.234375 48.140625 7.234375 53.078125 \nQ 7.234375 58.5 10.296875 63.203125 \nQ 13.375 67.921875 19.28125 70.359375 \nQ 25.203125 72.796875 32.421875 72.796875 \nQ 40.375 72.796875 46.453125 70.234375 \nQ 52.546875 67.671875 55.8125 62.6875 \nQ 59.078125 57.71875 59.328125 51.421875 \nL 50.25 50.734375 \nQ 49.515625 57.515625 45.28125 60.984375 \nQ 41.0625 64.453125 32.8125 64.453125 \nQ 24.21875 64.453125 20.28125 61.296875 \nQ 16.359375 58.15625 16.359375 53.71875 \nQ 16.359375 49.859375 19.140625 47.359375 \nQ 21.875 44.875 33.421875 42.265625 \nQ 44.96875 39.65625 49.265625 37.703125 \nQ 55.515625 34.8125 58.484375 30.390625 \nQ 61.46875 25.984375 61.46875 20.21875 \nQ 61.46875 14.5 58.203125 9.4375 \nQ 54.9375 4.390625 48.796875 1.578125 \nQ 42.671875 -1.21875 35.015625 -1.21875 \nQ 25.296875 -1.21875 18.71875 1.609375 \nQ 12.15625 4.4375 8.421875 10.125 \nQ 4.6875 15.828125 4.5 23 \nz\n\" id=\"ArialMT-83\"/>\n      <path d=\"M 6.640625 61.46875 \nL 6.640625 71.578125 \nL 15.4375 71.578125 \nL 15.4375 61.46875 \nz\nM 6.640625 0 \nL 6.640625 51.859375 \nL 15.4375 51.859375 \nL 15.4375 0 \nz\n\" id=\"ArialMT-105\"/>\n      <path d=\"M 40.234375 0 \nL 40.234375 6.546875 \nQ 35.296875 -1.171875 25.734375 -1.171875 \nQ 19.53125 -1.171875 14.328125 2.25 \nQ 9.125 5.671875 6.265625 11.796875 \nQ 3.421875 17.921875 3.421875 25.875 \nQ 3.421875 33.640625 6 39.96875 \nQ 8.59375 46.296875 13.765625 49.65625 \nQ 18.953125 53.03125 25.34375 53.03125 \nQ 30.03125 53.03125 33.6875 51.046875 \nQ 37.359375 49.078125 39.65625 45.90625 \nL 39.65625 71.578125 \nL 48.390625 71.578125 \nL 48.390625 0 \nz\nM 12.453125 25.875 \nQ 12.453125 15.921875 16.640625 10.984375 \nQ 20.84375 6.0625 26.5625 6.0625 \nQ 32.328125 6.0625 36.34375 10.765625 \nQ 40.375 15.484375 40.375 25.140625 \nQ 40.375 35.796875 36.265625 40.765625 \nQ 32.171875 45.75 26.171875 45.75 \nQ 20.3125 45.75 16.375 40.96875 \nQ 12.453125 36.1875 12.453125 25.875 \nz\n\" id=\"ArialMT-100\"/>\n     </defs>\n     <g style=\"fill:#262626;\" transform=\"translate(446.937969 23.357812)scale(0.1 -0.1)\">\n      <use xlink:href=\"#ArialMT-83\"/>\n      <use x=\"66.699219\" xlink:href=\"#ArialMT-117\"/>\n      <use x=\"122.314453\" xlink:href=\"#ArialMT-114\"/>\n      <use x=\"155.615234\" xlink:href=\"#ArialMT-118\"/>\n      <use x=\"205.615234\" xlink:href=\"#ArialMT-105\"/>\n      <use x=\"227.832031\" xlink:href=\"#ArialMT-118\"/>\n      <use x=\"277.832031\" xlink:href=\"#ArialMT-101\"/>\n      <use x=\"333.447266\" xlink:href=\"#ArialMT-100\"/>\n     </g>\n    </g>\n    <g id=\"patch_16\">\n     <path d=\"M 449.609844 37.503125 \nL 469.609844 37.503125 \nL 469.609844 30.503125 \nL 449.609844 30.503125 \nz\n\" style=\"fill:#3274a1;stroke:#ffffff;stroke-linejoin:miter;stroke-width:0.3;\"/>\n    </g>\n    <g id=\"text_13\">\n     <!-- 0 -->\n     <g style=\"fill:#262626;\" transform=\"translate(477.609844 37.503125)scale(0.1 -0.1)\">\n      <use xlink:href=\"#ArialMT-48\"/>\n     </g>\n    </g>\n    <g id=\"patch_17\">\n     <path d=\"M 449.609844 51.648437 \nL 469.609844 51.648437 \nL 469.609844 44.648437 \nL 449.609844 44.648437 \nz\n\" style=\"fill:#e1812c;stroke:#ffffff;stroke-linejoin:miter;stroke-width:0.3;\"/>\n    </g>\n    <g id=\"text_14\">\n     <!-- 1 -->\n     <g style=\"fill:#262626;\" transform=\"translate(477.609844 51.648437)scale(0.1 -0.1)\">\n      <use xlink:href=\"#ArialMT-49\"/>\n     </g>\n    </g>\n   </g>\n  </g>\n </g>\n <defs>\n  <clipPath id=\"p2f09656acf\">\n   <rect height=\"298.98\" width=\"446.4\" x=\"48.442656\" y=\"7.2\"/>\n  </clipPath>\n </defs>\n</svg>\n",
      "image/png": "[encoded data removed]"
     },
     "metadata": {}
    }
   ],
   "source": [
    "# Parchについても同様に可視化する\n",
    "#sns.countplot(x='Parch', data=train)\n",
    "#plt.title('Count of Parch')\n",
    "#x = train['Parch'].unique()\n",
    "#xticks = list(map(lambda x: str(x) + 'P', x))\n",
    "#plt.xticks(x ,xticks)\n",
    "#plt.show()\n",
    "\n",
    "# これも3人以上はほぼ同様なのでまとめる\n",
    "train['Parch_Overlap'] = [x if x <= 2 else 3 for x in train['Parch']]\n",
    "sns.countplot(x='Parch_Overlap', hue='Survived', data=train)\n",
    "\n",
    "display(pd.crosstab(train['Parch_Overlap'], train['Survived']))\n",
    "display(pd.crosstab(train['Parch_Overlap'], train['Survived'], normalize='index'))"
   ]
  },
  {
   "cell_type": "markdown",
   "metadata": {},
   "source": [
    "## グラフから読み取れること\n",
    "* 親子が１人の場合は生き残る率の方が高い\n",
    "* 3人以上は死にやすい"
   ]
  },
  {
   "cell_type": "code",
   "execution_count": 275,
   "metadata": {},
   "outputs": [
    {
     "output_type": "display_data",
     "data": {
      "text/plain": "Survived           0    1\nCategoricalFare          \nbin_0            179   44\nbin_1            156   68\nbin_2            121  101\nbin_3             93  127",
      "text/html": "<div>\n<style scoped>\n    .dataframe tbody tr th:only-of-type {\n        vertical-align: middle;\n    }\n\n    .dataframe tbody tr th {\n        vertical-align: top;\n    }\n\n    .dataframe thead th {\n        text-align: right;\n    }\n</style>\n<table border=\"1\" class=\"dataframe\">\n  <thead>\n    <tr style=\"text-align: right;\">\n      <th>Survived</th>\n      <th>0</th>\n      <th>1</th>\n    </tr>\n    <tr>\n      <th>CategoricalFare</th>\n      <th></th>\n      <th></th>\n    </tr>\n  </thead>\n  <tbody>\n    <tr>\n      <th>bin_0</th>\n      <td>179</td>\n      <td>44</td>\n    </tr>\n    <tr>\n      <th>bin_1</th>\n      <td>156</td>\n      <td>68</td>\n    </tr>\n    <tr>\n      <th>bin_2</th>\n      <td>121</td>\n      <td>101</td>\n    </tr>\n    <tr>\n      <th>bin_3</th>\n      <td>93</td>\n      <td>127</td>\n    </tr>\n  </tbody>\n</table>\n</div>"
     },
     "metadata": {}
    },
    {
     "output_type": "display_data",
     "data": {
      "text/plain": "Survived                0         1\nCategoricalFare                    \nbin_0            0.802691  0.197309\nbin_1            0.696429  0.303571\nbin_2            0.545045  0.454955\nbin_3            0.422727  0.577273",
      "text/html": "<div>\n<style scoped>\n    .dataframe tbody tr th:only-of-type {\n        vertical-align: middle;\n    }\n\n    .dataframe tbody tr th {\n        vertical-align: top;\n    }\n\n    .dataframe thead th {\n        text-align: right;\n    }\n</style>\n<table border=\"1\" class=\"dataframe\">\n  <thead>\n    <tr style=\"text-align: right;\">\n      <th>Survived</th>\n      <th>0</th>\n      <th>1</th>\n    </tr>\n    <tr>\n      <th>CategoricalFare</th>\n      <th></th>\n      <th></th>\n    </tr>\n  </thead>\n  <tbody>\n    <tr>\n      <th>bin_0</th>\n      <td>0.802691</td>\n      <td>0.197309</td>\n    </tr>\n    <tr>\n      <th>bin_1</th>\n      <td>0.696429</td>\n      <td>0.303571</td>\n    </tr>\n    <tr>\n      <th>bin_2</th>\n      <td>0.545045</td>\n      <td>0.454955</td>\n    </tr>\n    <tr>\n      <th>bin_3</th>\n      <td>0.422727</td>\n      <td>0.577273</td>\n    </tr>\n  </tbody>\n</table>\n</div>"
     },
     "metadata": {}
    }
   ],
   "source": [
    "# Fare\n",
    "#sns.distplot(train['Fare'].dropna(), kde=False, hist=True, color='green')\n",
    "#plt.title('Fare Histgram')\n",
    "\n",
    "# 各運賃のばらつきを4つ等しく分割する\n",
    "#train['CategoricalFare'] = pd.qcut(train['Fare'], 4)\n",
    "bins = 4\n",
    "train['CategoricalFare'] = pd.qcut(train['Fare'], bins, labels=[f'bin_{i}' for i in range(bins)])\n",
    "train['CategoricalFare'].unique()\n",
    "\n",
    "display(pd.crosstab(train['CategoricalFare'], train['Survived']))\n",
    "display(pd.crosstab(train['CategoricalFare'], train['Survived'], normalize='index'))\n"
   ]
  },
  {
   "cell_type": "code",
   "execution_count": 276,
   "metadata": {},
   "outputs": [
    {
     "output_type": "execute_result",
     "data": {
      "text/plain": "     PassengerId  Survived  Pclass                             Name  Sex  \\\n728          729         0       2  Bryhl, Mr. Kurt Arnold Gottfrid    0   \n848          849         0       2                Harper, Rev. John    0   \n381          382         1       3      Nakid, Miss. Maria (\"Mary\")    1   \n\n      Age  SibSp  Parch  Ticket     Fare  ... Embarked Family  Alone  \\\n728  25.0      1      0  236853  26.0000  ...        S      2      0   \n848  28.0      0      1  248727  33.0000  ...        S      2      0   \n381   1.0      0      2    2653  15.7417  ...        C      3      0   \n\n     Servived_Per_Pclass  CategoricalAge SibSp_Overlap  Parch_Overlap  \\\n728             0.472826           bin_2             1              0   \n848             0.472826           bin_2             0              1   \n381             0.242363           bin_0             0              2   \n\n     CategoricalFare Title TitleCategorize  \n728            bin_2    Mr               1  \n848            bin_3   Rev               4  \n381            bin_2  Miss               2  \n\n[3 rows x 21 columns]",
      "text/html": "<div>\n<style scoped>\n    .dataframe tbody tr th:only-of-type {\n        vertical-align: middle;\n    }\n\n    .dataframe tbody tr th {\n        vertical-align: top;\n    }\n\n    .dataframe thead th {\n        text-align: right;\n    }\n</style>\n<table border=\"1\" class=\"dataframe\">\n  <thead>\n    <tr style=\"text-align: right;\">\n      <th></th>\n      <th>PassengerId</th>\n      <th>Survived</th>\n      <th>Pclass</th>\n      <th>Name</th>\n      <th>Sex</th>\n      <th>Age</th>\n      <th>SibSp</th>\n      <th>Parch</th>\n      <th>Ticket</th>\n      <th>Fare</th>\n      <th>...</th>\n      <th>Embarked</th>\n      <th>Family</th>\n      <th>Alone</th>\n      <th>Servived_Per_Pclass</th>\n      <th>CategoricalAge</th>\n      <th>SibSp_Overlap</th>\n      <th>Parch_Overlap</th>\n      <th>CategoricalFare</th>\n      <th>Title</th>\n      <th>TitleCategorize</th>\n    </tr>\n  </thead>\n  <tbody>\n    <tr>\n      <th>728</th>\n      <td>729</td>\n      <td>0</td>\n      <td>2</td>\n      <td>Bryhl, Mr. Kurt Arnold Gottfrid</td>\n      <td>0</td>\n      <td>25.0</td>\n      <td>1</td>\n      <td>0</td>\n      <td>236853</td>\n      <td>26.0000</td>\n      <td>...</td>\n      <td>S</td>\n      <td>2</td>\n      <td>0</td>\n      <td>0.472826</td>\n      <td>bin_2</td>\n      <td>1</td>\n      <td>0</td>\n      <td>bin_2</td>\n      <td>Mr</td>\n      <td>1</td>\n    </tr>\n    <tr>\n      <th>848</th>\n      <td>849</td>\n      <td>0</td>\n      <td>2</td>\n      <td>Harper, Rev. John</td>\n      <td>0</td>\n      <td>28.0</td>\n      <td>0</td>\n      <td>1</td>\n      <td>248727</td>\n      <td>33.0000</td>\n      <td>...</td>\n      <td>S</td>\n      <td>2</td>\n      <td>0</td>\n      <td>0.472826</td>\n      <td>bin_2</td>\n      <td>0</td>\n      <td>1</td>\n      <td>bin_3</td>\n      <td>Rev</td>\n      <td>4</td>\n    </tr>\n    <tr>\n      <th>381</th>\n      <td>382</td>\n      <td>1</td>\n      <td>3</td>\n      <td>Nakid, Miss. Maria (\"Mary\")</td>\n      <td>1</td>\n      <td>1.0</td>\n      <td>0</td>\n      <td>2</td>\n      <td>2653</td>\n      <td>15.7417</td>\n      <td>...</td>\n      <td>C</td>\n      <td>3</td>\n      <td>0</td>\n      <td>0.242363</td>\n      <td>bin_0</td>\n      <td>0</td>\n      <td>2</td>\n      <td>bin_2</td>\n      <td>Miss</td>\n      <td>2</td>\n    </tr>\n  </tbody>\n</table>\n<p>3 rows × 21 columns</p>\n</div>"
     },
     "metadata": {},
     "execution_count": 276
    }
   ],
   "source": [
    "# Nameの変換, まずは確認\n",
    "#display(train['Name'].head())\n",
    "\n",
    "# 敬称を抽出する\n",
    "#set(train['Name'].str.extract('([A-Za-z]+)\\.', expand=False))\n",
    "\n",
    "#display(train['Name'].str.extract('([A-Za-z]+)\\.', expand=False).value_counts())\n",
    "\n",
    "# 敬称の列を生成\n",
    "train['Title'] = train['Name'].str.extract('([A-Za-z]+)\\.', expand=False)\n",
    "\n",
    "# 敬称ごとの平均\n",
    "train.groupby('Title').mean()['Age']\n",
    "\n",
    "\"\"\"\n",
    "グラフから読み取れること\n",
    "* Masterの平均年齢が低いことから、子供だと推測される\n",
    "* 子供の生存率がよかったので、特徴量として使えそう\n",
    "* Masterとその他個数の多かった、Mr, Miss, Mrsとそれ以外で特徴を作成する\n",
    "\"\"\"\n",
    "\n",
    "# 変換用の関数\n",
    "def title_to_categorize(x):\n",
    "    if x == 'Master':\n",
    "        r = 0\n",
    "    elif x == 'Mr':\n",
    "        r = 1\n",
    "    elif x == 'Miss':\n",
    "        r = 2\n",
    "    elif x == 'Mrs':\n",
    "        r = 3\n",
    "    else:\n",
    "        r = 4\n",
    "    return r\n",
    "\n",
    "# 特徴量として追加\n",
    "train['TitleCategorize'] = train['Title'].map(title_to_categorize)\n",
    "\n",
    "# display(train[['TitleCategorize', 'Title']].sample(5))\n",
    "\n",
    "train.sample(3)"
   ]
  },
  {
   "cell_type": "code",
   "execution_count": 277,
   "metadata": {},
   "outputs": [
    {
     "output_type": "display_data",
     "data": {
      "text/plain": "     Survived  Pclass   Age  SibSp  Parch    Fare  Family  Alone  \\\n191         0       2  19.0      0      0  13.000       1      1   \n24          0       3   8.0      3      1  21.075       5      0   \n51          0       3  21.0      0      0   7.800       1      1   \n\n     Servived_Per_Pclass CategoricalAge  SibSp_Overlap  Parch_Overlap  \\\n191             0.472826          bin_1              0              0   \n24              0.242363          bin_0              2              1   \n51              0.242363          bin_2              0              0   \n\n    CategoricalFare  TitleCategorize  Sex_0  Sex_1  Embarked_C  Embarked_Q  \\\n191           bin_1                1      1      0           0           0   \n24            bin_2                2      0      1           0           0   \n51            bin_0                1      1      0           0           0   \n\n     Embarked_S  \n191           1  \n24            1  \n51            1  ",
      "text/html": "<div>\n<style scoped>\n    .dataframe tbody tr th:only-of-type {\n        vertical-align: middle;\n    }\n\n    .dataframe tbody tr th {\n        vertical-align: top;\n    }\n\n    .dataframe thead th {\n        text-align: right;\n    }\n</style>\n<table border=\"1\" class=\"dataframe\">\n  <thead>\n    <tr style=\"text-align: right;\">\n      <th></th>\n      <th>Survived</th>\n      <th>Pclass</th>\n      <th>Age</th>\n      <th>SibSp</th>\n      <th>Parch</th>\n      <th>Fare</th>\n      <th>Family</th>\n      <th>Alone</th>\n      <th>Servived_Per_Pclass</th>\n      <th>CategoricalAge</th>\n      <th>SibSp_Overlap</th>\n      <th>Parch_Overlap</th>\n      <th>CategoricalFare</th>\n      <th>TitleCategorize</th>\n      <th>Sex_0</th>\n      <th>Sex_1</th>\n      <th>Embarked_C</th>\n      <th>Embarked_Q</th>\n      <th>Embarked_S</th>\n    </tr>\n  </thead>\n  <tbody>\n    <tr>\n      <th>191</th>\n      <td>0</td>\n      <td>2</td>\n      <td>19.0</td>\n      <td>0</td>\n      <td>0</td>\n      <td>13.000</td>\n      <td>1</td>\n      <td>1</td>\n      <td>0.472826</td>\n      <td>bin_1</td>\n      <td>0</td>\n      <td>0</td>\n      <td>bin_1</td>\n      <td>1</td>\n      <td>1</td>\n      <td>0</td>\n      <td>0</td>\n      <td>0</td>\n      <td>1</td>\n    </tr>\n    <tr>\n      <th>24</th>\n      <td>0</td>\n      <td>3</td>\n      <td>8.0</td>\n      <td>3</td>\n      <td>1</td>\n      <td>21.075</td>\n      <td>5</td>\n      <td>0</td>\n      <td>0.242363</td>\n      <td>bin_0</td>\n      <td>2</td>\n      <td>1</td>\n      <td>bin_2</td>\n      <td>2</td>\n      <td>0</td>\n      <td>1</td>\n      <td>0</td>\n      <td>0</td>\n      <td>1</td>\n    </tr>\n    <tr>\n      <th>51</th>\n      <td>0</td>\n      <td>3</td>\n      <td>21.0</td>\n      <td>0</td>\n      <td>0</td>\n      <td>7.800</td>\n      <td>1</td>\n      <td>1</td>\n      <td>0.242363</td>\n      <td>bin_2</td>\n      <td>0</td>\n      <td>0</td>\n      <td>bin_0</td>\n      <td>1</td>\n      <td>1</td>\n      <td>0</td>\n      <td>0</td>\n      <td>0</td>\n      <td>1</td>\n    </tr>\n  </tbody>\n</table>\n</div>"
     },
     "metadata": {}
    }
   ],
   "source": [
    "# one-hot エンコーディング\n",
    "train = pd.get_dummies(train, columns=['Sex', 'Embarked'])\n",
    "test  = pd.get_dummies(test, columns=['Sex', 'Embarked'])\n",
    "\n",
    "train.sample(3)\n",
    "\n",
    "# 不要な列を削除\n",
    "train.drop(['PassengerId', 'Name', 'Cabin', 'Ticket', 'Title'], axis=1, inplace=True)\n",
    "test.drop(['PassengerId', 'Name', 'Cabin', 'Ticket'], axis=1, inplace=True)\n",
    "\n",
    "display(train.sample(3))"
   ]
  },
  {
   "cell_type": "code",
   "execution_count": 294,
   "metadata": {},
   "outputs": [
    {
     "output_type": "stream",
     "name": "stdout",
     "text": "[82.15, 83.78, 78.38] mean scores :  81.44\n"
    }
   ],
   "source": [
    "from sklearn.model_selection import KFold\n",
    "\n",
    "# xとyに分ける\n",
    "X_train = train.drop('Survived', axis=1)\n",
    "y_train = train['Survived']\n",
    "\n",
    "kf = KFold(n_splits=3, shuffle=True, random_state=111)\n",
    "\n",
    "models = []\n",
    "scores = []\n",
    "\n",
    "folds = kf.split(X_train, y_train)\n",
    "\n",
    "for i, (train_idx, valid_idx) in enumerate(folds):\n",
    "    # 分割の範囲のインデックスごとに、分ける\n",
    "\n",
    "    train_x = X_train.iloc[train_idx]\n",
    "    train_y = y_train.iloc[train_idx]\n",
    "\n",
    "    valid_x = X_train.iloc[valid_idx]\n",
    "    valid_y = y_train.iloc[valid_idx]\n",
    "\n",
    "    # Dataset\n",
    "    lgb_train = lgb.Dataset(train_x, train_y)\n",
    "    lgb_valid = lgb.Dataset(valid_x, valid_y)\n",
    "\n",
    "    # ハイパーパラメータを定義\n",
    "    lgbm_params = {'objective': 'binary'}\n",
    "    \n",
    "    # 学習\n",
    "    gbm = lgb.train(params=lgbm_params, train_set=lgb_train, valid_sets=[lgb_train, lgb_valid], verbose_eval=-1)\n",
    "\n",
    "    # 0 ~ 1の間で0.5を超えるものは1として予測する\n",
    "    oof = (gbm.predict(valid_x) > 0.5).astype(int)\n",
    "    scores.append(round(accuracy_score(valid_y, oof)*100,2))\n",
    "    models.append(gbm)\n",
    "print(scores, 'mean scores : ', round(np.mean(scores), 2))\n"
   ]
  },
  {
   "cell_type": "code",
   "execution_count": 295,
   "metadata": {},
   "outputs": [
    {
     "output_type": "error",
     "ename": "ValueError",
     "evalue": "train and valid dataset categorical_feature do not match.",
     "traceback": [
      "\u001b[0;31m---------------------------------------------------------------------------\u001b[0m",
      "\u001b[0;31mValueError\u001b[0m                                Traceback (most recent call last)",
      "\u001b[0;32m<ipython-input-295-693877146f18>\u001b[0m in \u001b[0;36m<module>\u001b[0;34m\u001b[0m\n\u001b[1;32m      2\u001b[0m \u001b[0mpreds\u001b[0m \u001b[0;34m=\u001b[0m \u001b[0mpd\u001b[0m\u001b[0;34m.\u001b[0m\u001b[0mDataFrame\u001b[0m\u001b[0;34m(\u001b[0m\u001b[0;34m)\u001b[0m\u001b[0;34m\u001b[0m\u001b[0;34m\u001b[0m\u001b[0m\n\u001b[1;32m      3\u001b[0m \u001b[0;32mfor\u001b[0m \u001b[0mgbm\u001b[0m \u001b[0;32min\u001b[0m \u001b[0mmodels\u001b[0m\u001b[0;34m:\u001b[0m\u001b[0;34m\u001b[0m\u001b[0;34m\u001b[0m\u001b[0m\n\u001b[0;32m----> 4\u001b[0;31m     \u001b[0mpred\u001b[0m \u001b[0;34m=\u001b[0m \u001b[0mgbm\u001b[0m\u001b[0;34m.\u001b[0m\u001b[0mpredict\u001b[0m\u001b[0;34m(\u001b[0m\u001b[0mtest\u001b[0m\u001b[0;34m)\u001b[0m\u001b[0;34m\u001b[0m\u001b[0;34m\u001b[0m\u001b[0m\n\u001b[0m\u001b[1;32m      5\u001b[0m     \u001b[0mpreds\u001b[0m\u001b[0;34m.\u001b[0m\u001b[0mjoin\u001b[0m\u001b[0;34m(\u001b[0m\u001b[0mpred\u001b[0m\u001b[0;34m)\u001b[0m\u001b[0;34m\u001b[0m\u001b[0;34m\u001b[0m\u001b[0m\n\u001b[1;32m      6\u001b[0m \u001b[0;34m\u001b[0m\u001b[0m\n",
      "\u001b[0;32m~/.pyenv/versions/3.8.2/lib/python3.8/site-packages/lightgbm/basic.py\u001b[0m in \u001b[0;36mpredict\u001b[0;34m(self, data, num_iteration, raw_score, pred_leaf, pred_contrib, data_has_header, is_reshape, **kwargs)\u001b[0m\n\u001b[1;32m   2411\u001b[0m         \u001b[0;32mif\u001b[0m \u001b[0mnum_iteration\u001b[0m \u001b[0;32mis\u001b[0m \u001b[0;32mNone\u001b[0m\u001b[0;34m:\u001b[0m\u001b[0;34m\u001b[0m\u001b[0;34m\u001b[0m\u001b[0m\n\u001b[1;32m   2412\u001b[0m             \u001b[0mnum_iteration\u001b[0m \u001b[0;34m=\u001b[0m \u001b[0mself\u001b[0m\u001b[0;34m.\u001b[0m\u001b[0mbest_iteration\u001b[0m\u001b[0;34m\u001b[0m\u001b[0;34m\u001b[0m\u001b[0m\n\u001b[0;32m-> 2413\u001b[0;31m         return predictor.predict(data, num_iteration,\n\u001b[0m\u001b[1;32m   2414\u001b[0m                                  \u001b[0mraw_score\u001b[0m\u001b[0;34m,\u001b[0m \u001b[0mpred_leaf\u001b[0m\u001b[0;34m,\u001b[0m \u001b[0mpred_contrib\u001b[0m\u001b[0;34m,\u001b[0m\u001b[0;34m\u001b[0m\u001b[0;34m\u001b[0m\u001b[0m\n\u001b[1;32m   2415\u001b[0m                                  data_has_header, is_reshape)\n",
      "\u001b[0;32m~/.pyenv/versions/3.8.2/lib/python3.8/site-packages/lightgbm/basic.py\u001b[0m in \u001b[0;36mpredict\u001b[0;34m(self, data, num_iteration, raw_score, pred_leaf, pred_contrib, data_has_header, is_reshape)\u001b[0m\n\u001b[1;32m    502\u001b[0m         \u001b[0;32mif\u001b[0m \u001b[0misinstance\u001b[0m\u001b[0;34m(\u001b[0m\u001b[0mdata\u001b[0m\u001b[0;34m,\u001b[0m \u001b[0mDataset\u001b[0m\u001b[0;34m)\u001b[0m\u001b[0;34m:\u001b[0m\u001b[0;34m\u001b[0m\u001b[0;34m\u001b[0m\u001b[0m\n\u001b[1;32m    503\u001b[0m             \u001b[0;32mraise\u001b[0m \u001b[0mTypeError\u001b[0m\u001b[0;34m(\u001b[0m\u001b[0;34m\"Cannot use Dataset instance for prediction, please use raw data instead\"\u001b[0m\u001b[0;34m)\u001b[0m\u001b[0;34m\u001b[0m\u001b[0;34m\u001b[0m\u001b[0m\n\u001b[0;32m--> 504\u001b[0;31m         \u001b[0mdata\u001b[0m \u001b[0;34m=\u001b[0m \u001b[0m_data_from_pandas\u001b[0m\u001b[0;34m(\u001b[0m\u001b[0mdata\u001b[0m\u001b[0;34m,\u001b[0m \u001b[0;32mNone\u001b[0m\u001b[0;34m,\u001b[0m \u001b[0;32mNone\u001b[0m\u001b[0;34m,\u001b[0m \u001b[0mself\u001b[0m\u001b[0;34m.\u001b[0m\u001b[0mpandas_categorical\u001b[0m\u001b[0;34m)\u001b[0m\u001b[0;34m[\u001b[0m\u001b[0;36m0\u001b[0m\u001b[0;34m]\u001b[0m\u001b[0;34m\u001b[0m\u001b[0;34m\u001b[0m\u001b[0m\n\u001b[0m\u001b[1;32m    505\u001b[0m         \u001b[0mpredict_type\u001b[0m \u001b[0;34m=\u001b[0m \u001b[0mC_API_PREDICT_NORMAL\u001b[0m\u001b[0;34m\u001b[0m\u001b[0;34m\u001b[0m\u001b[0m\n\u001b[1;32m    506\u001b[0m         \u001b[0;32mif\u001b[0m \u001b[0mraw_score\u001b[0m\u001b[0;34m:\u001b[0m\u001b[0;34m\u001b[0m\u001b[0;34m\u001b[0m\u001b[0m\n",
      "\u001b[0;32m~/.pyenv/versions/3.8.2/lib/python3.8/site-packages/lightgbm/basic.py\u001b[0m in \u001b[0;36m_data_from_pandas\u001b[0;34m(data, feature_name, categorical_feature, pandas_categorical)\u001b[0m\n\u001b[1;32m    322\u001b[0m         \u001b[0;32melse\u001b[0m\u001b[0;34m:\u001b[0m\u001b[0;34m\u001b[0m\u001b[0;34m\u001b[0m\u001b[0m\n\u001b[1;32m    323\u001b[0m             \u001b[0;32mif\u001b[0m \u001b[0mlen\u001b[0m\u001b[0;34m(\u001b[0m\u001b[0mcat_cols\u001b[0m\u001b[0;34m)\u001b[0m \u001b[0;34m!=\u001b[0m \u001b[0mlen\u001b[0m\u001b[0;34m(\u001b[0m\u001b[0mpandas_categorical\u001b[0m\u001b[0;34m)\u001b[0m\u001b[0;34m:\u001b[0m\u001b[0;34m\u001b[0m\u001b[0;34m\u001b[0m\u001b[0m\n\u001b[0;32m--> 324\u001b[0;31m                 \u001b[0;32mraise\u001b[0m \u001b[0mValueError\u001b[0m\u001b[0;34m(\u001b[0m\u001b[0;34m'train and valid dataset categorical_feature do not match.'\u001b[0m\u001b[0;34m)\u001b[0m\u001b[0;34m\u001b[0m\u001b[0;34m\u001b[0m\u001b[0m\n\u001b[0m\u001b[1;32m    325\u001b[0m             \u001b[0;32mfor\u001b[0m \u001b[0mcol\u001b[0m\u001b[0;34m,\u001b[0m \u001b[0mcategory\u001b[0m \u001b[0;32min\u001b[0m \u001b[0mzip_\u001b[0m\u001b[0;34m(\u001b[0m\u001b[0mcat_cols\u001b[0m\u001b[0;34m,\u001b[0m \u001b[0mpandas_categorical\u001b[0m\u001b[0;34m)\u001b[0m\u001b[0;34m:\u001b[0m\u001b[0;34m\u001b[0m\u001b[0;34m\u001b[0m\u001b[0m\n\u001b[1;32m    326\u001b[0m                 \u001b[0;32mif\u001b[0m \u001b[0mlist\u001b[0m\u001b[0;34m(\u001b[0m\u001b[0mdata\u001b[0m\u001b[0;34m[\u001b[0m\u001b[0mcol\u001b[0m\u001b[0;34m]\u001b[0m\u001b[0;34m.\u001b[0m\u001b[0mcat\u001b[0m\u001b[0;34m.\u001b[0m\u001b[0mcategories\u001b[0m\u001b[0;34m)\u001b[0m \u001b[0;34m!=\u001b[0m \u001b[0mlist\u001b[0m\u001b[0;34m(\u001b[0m\u001b[0mcategory\u001b[0m\u001b[0;34m)\u001b[0m\u001b[0;34m:\u001b[0m\u001b[0;34m\u001b[0m\u001b[0;34m\u001b[0m\u001b[0m\n",
      "\u001b[0;31mValueError\u001b[0m: train and valid dataset categorical_feature do not match."
     ]
    }
   ],
   "source": [
    "# テストデータで予測を行う\n",
    "preds = np.zeros(len(test), len(models))\n",
    "for gbm in models:\n",
    "    pred = gbm.predict(test)\n",
    "    preds.join(pred)"
   ]
  }
 ],
 "metadata": {
  "language_info": {
   "codemirror_mode": {
    "name": "ipython",
    "version": 3
   },
   "file_extension": ".py",
   "mimetype": "text/x-python",
   "name": "python",
   "nbconvert_exporter": "python",
   "pygments_lexer": "ipython3",
   "version": "3.8.2-final"
  },
  "orig_nbformat": 2,
  "kernelspec": {
   "name": "python38264bit382pyenv1f38b8a54fff446a87bc81d1dd4ed970",
   "display_name": "Python 3.8.2 64-bit ('3.8.2': pyenv)"
  }
 },
 "nbformat": 4,
 "nbformat_minor": 2
}