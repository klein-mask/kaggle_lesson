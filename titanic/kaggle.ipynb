{
 "cells": [
  {
   "cell_type": "markdown",
   "metadata": {},
   "source": [
    "# Kaggle <Titanic: Machine Learning from Disaster>"
   ]
  },
  {
   "cell_type": "markdown",
   "metadata": {},
   "source": [
    "## Read data from csv"
   ]
  },
  {
   "cell_type": "code",
   "execution_count": 45,
   "metadata": {},
   "outputs": [
    {
     "name": "stdout",
     "output_type": "stream",
     "text": [
      "Train_X shape size :  (891, 11)\n",
      "Test_X shape size :  (418, 11)\n"
     ]
    }
   ],
   "source": [
    "import pandas as pd\n",
    "\n",
    "train = pd.read_csv('./data/train.csv')\n",
    "test_X = pd.read_csv('./data/test.csv')\n",
    "\n",
    "train_X = train.drop('Survived', axis=1)\n",
    "train_y = train['Survived']\n",
    "print('Train_X shape size : ', train_X.shape)\n",
    "print('Test_X shape size : ', test_X.shape)"
   ]
  },
  {
   "cell_type": "markdown",
   "metadata": {},
   "source": [
    "## Preprocess and select models by pipeline"
   ]
  },
  {
   "cell_type": "code",
   "execution_count": 55,
   "metadata": {},
   "outputs": [
    {
     "name": "stdout",
     "output_type": "stream",
     "text": [
      "(1306, 10)\n",
      "PassengerId    0\n",
      "Pclass         0\n",
      "Name           0\n",
      "Sex            0\n",
      "Age            0\n",
      "SibSp          0\n",
      "Parch          0\n",
      "Ticket         0\n",
      "Fare           0\n",
      "Embarked       0\n",
      "dtype: int64\n",
      "<bound method DataFrame.info of      PassengerId  Pclass                                               Name  \\\n",
      "0              1       3                            Braund, Mr. Owen Harris   \n",
      "1              2       1  Cumings, Mrs. John Bradley (Florence Briggs Th...   \n",
      "2              3       3                             Heikkinen, Miss. Laina   \n",
      "3              4       1       Futrelle, Mrs. Jacques Heath (Lily May Peel)   \n",
      "4              5       3                           Allen, Mr. William Henry   \n",
      "..           ...     ...                                                ...   \n",
      "413         1305       3                                 Spector, Mr. Woolf   \n",
      "414         1306       1                       Oliva y Ocana, Dona. Fermina   \n",
      "415         1307       3                       Saether, Mr. Simon Sivertsen   \n",
      "416         1308       3                                Ware, Mr. Frederick   \n",
      "417         1309       3                           Peter, Master. Michael J   \n",
      "\n",
      "        Sex        Age  SibSp  Parch              Ticket      Fare Embarked  \n",
      "0      male  22.000000      1      0           A/5 21171    7.2500        S  \n",
      "1    female  38.000000      1      0            PC 17599   71.2833        C  \n",
      "2    female  26.000000      0      0    STON/O2. 3101282    7.9250        S  \n",
      "3    female  35.000000      1      0              113803   53.1000        S  \n",
      "4      male  35.000000      0      0              373450    8.0500        S  \n",
      "..      ...        ...    ...    ...                 ...       ...      ...  \n",
      "413    male  29.881138      0      0           A.5. 3236    8.0500        S  \n",
      "414  female  39.000000      0      0            PC 17758  108.9000        C  \n",
      "415    male  38.500000      0      0  SOTON/O.Q. 3101262    7.2500        S  \n",
      "416    male  29.881138      0      0              359309    8.0500        S  \n",
      "417    male  29.881138      1      1                2668   22.3583        C  \n",
      "\n",
      "[1306 rows x 10 columns]>\n"
     ]
    }
   ],
   "source": [
    "from sklearn.impute import SimpleImputer\n",
    "from sklearn.pipeline import Pipeline\n",
    "\n",
    "\"\"\"\n",
    "pipeline = Pipeline([\n",
    "    ('imputer', SimpleImputer(strategy='mean'))\n",
    "])\n",
    "\"\"\"\n",
    "\"\"\"\n",
    "# Nan to mean\n",
    "imputer = SimpleImputer(strategy='mean')\n",
    "imputer.fit(train_X[['Age']])\n",
    "\n",
    "imp_train_X = train_X.copy()\n",
    "imp_train_X[['Age']] = imputer.transform(train_X[['Age']])\n",
    "\n",
    "imp_test_X = test_X.copy()\n",
    "imp_test_X[['Age']] = imputer.transform(test_X[['Age']])\n",
    "display(imp_train_X.isnull().sum())\n",
    "display(imp_test_X.isnull().sum())\n",
    "\n",
    "# Drop Cabin\n",
    "droped_cabin_train_X = imp_train_X.drop('Cabin', axis=1)\n",
    "droped_cabin_test_X = imp_test_X.drop('Cabin', axis=1)\n",
    "\n",
    "display(droped_cabin_train_X.isnull().sum())\n",
    "display(droped_cabin_test_X.isnull().sum())\n",
    "\"\"\"\n",
    "\n",
    "all_X = pd.concat([train_X, test_X], axis=0)\n",
    "imputer = SimpleImputer(strategy='mean')\n",
    "imputer.fit(all_X[['Age']])\n",
    "\n",
    "imp_all_X = all_X.copy()\n",
    "imp_all_X[['Age']] = imputer.transform(imp_all_X[['Age']])\n",
    "droped_nan_all_X = imp_all_X.drop('Cabin', axis=1)\n",
    "droped_nan_all_X = droped_nan_all_X.dropna()\n",
    "print(droped_nan_all_X.shape)\n",
    "print(droped_nan_all_X.isnull().sum())\n",
    "print(droped_nan_all_X.info)"
   ]
  },
  {
   "cell_type": "code",
   "execution_count": null,
   "metadata": {},
   "outputs": [],
   "source": []
  }
 ],
 "metadata": {
  "kernelspec": {
   "display_name": "Python 3",
   "language": "python",
   "name": "python3"
  },
  "language_info": {
   "codemirror_mode": {
    "name": "ipython",
    "version": 3
   },
   "file_extension": ".py",
   "mimetype": "text/x-python",
   "name": "python",
   "nbconvert_exporter": "python",
   "pygments_lexer": "ipython3",
   "version": "3.8.6"
  }
 },
 "nbformat": 4,
 "nbformat_minor": 4
}
