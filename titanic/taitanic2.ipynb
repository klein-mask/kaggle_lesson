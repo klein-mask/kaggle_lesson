{
 "cells": [
  {
   "cell_type": "code",
   "execution_count": 64,
   "outputs": [
    {
     "name": "stdout",
     "output_type": "stream",
     "text": [
      "2\n",
      "177\n",
      "[0 0 1 0 0 0 0 0 1 1 0 1 1 0 1 0 1 0 0 1 0 1 0 0 0 1 0 0 0 0 1 0 0 1 0 0 0\n",
      " 0 0 0 1 0 1 0 1 0 0 0 0 0 0 0 0 0 0 1 1 1 0 0 1 0 1 0 0 0 1 1 1 1 1 0 0 0\n",
      " 1 1 0 0 1 0 0 1 1 1 1 1 0 0 0 0 0 1 1 0 0 1 1 1 0 1 0 1 0 1 0 1 0 0 0 1 1\n",
      " 1 0 0 0 0 0 0 0 0 0 0 0 0 0 0 0 0 0 0 0 0 1 0 0 1 1 0 1 0 0 0 1 0 1 0 0 1\n",
      " 0 0 0 0 1 0 0 0 1 1 1 0 0 0 1 0 0 1 0 1 1 1 0 0 0 0 0 0 0 0]\n",
      "0.7303370786516854\n"
     ]
    }
   ],
   "source": [
    "import pandas as pd\n",
    "import seaborn as sns\n",
    "\n",
    "train = pd.read_csv('data/train.csv')\n",
    "\n",
    "#sns.countplot('Sex',hue='Survived',data=train)\n",
    "\n",
    "# いらなそうな特徴量\n",
    "\n",
    "# 欠損値の補完\n",
    "print(train['Embarked'].isnull().sum())\n",
    "train.dropna(subset=['Embarked'], inplace=True)\n",
    "print(train['Age'].isnull().sum())\n",
    "train.fillna(train['Age'].mean(), inplace=True)\n",
    "\n",
    "# 新しい特徴量\n",
    "# train['family'] = train['SibSp'] + train['Parch']\n",
    "\n",
    "# 性別変換\n",
    "train.loc[train['Sex'] == 'male', 'Sex'] = 0\n",
    "train.loc[train['Sex'] == 'female', 'Sex'] = 1\n",
    "\n",
    "# 乗船変換\n",
    "emberked_Q_count = len(train[(train['Embarked'] == 'Q') & (train['Survived'] == 1)])\n",
    "emberked_S_count = len(train[(train['Embarked'] == 'S') & (train['Survived'] == 1)])\n",
    "emberked_C_count = len(train[(train['Embarked'] == 'C') & (train['Survived'] == 1)])\n",
    "\n",
    "# print(emberked_Q_count, emberked_S_count, emberked_C_count)\n",
    "\n",
    "# 生き残った合計で割った数に変換する\n",
    "survived_all_count = emberked_Q_count + emberked_S_count + emberked_C_count\n",
    "emberked_Q_per = emberked_Q_count / survived_all_count\n",
    "emberked_S_per = emberked_S_count / survived_all_count\n",
    "emberked_C_per = emberked_C_count / survived_all_count\n",
    "# print(emberked_Q_per, emberked_S_per, emberked_C_per)\n",
    "\n",
    "# replace使ってみる\n",
    "train['Embarked'].replace({'Q': emberked_Q_per, 'S': emberked_S_per, 'C': emberked_C_per}, inplace=True)\n",
    "\n",
    "# Cabin\n",
    "#print(set(train['Cabin']))\n",
    "# 欠損値が多いので削除\n",
    "#print(train['Cabin'].isnull().sum())\n",
    "train.drop('Cabin', axis=1, inplace=True)\n",
    "\n",
    "\n",
    "#print(train.sample(5))\n",
    "\n",
    "\n",
    "# 最終的に使用するデータ\n",
    "X = train[['Pclass', 'Sex', 'Age', 'SibSp', 'Parch', 'Embarked']]\n",
    "y = train['Survived']\n",
    "\n",
    "\n",
    "#sns.pairplot(X)\n",
    "\n",
    "\n",
    "# 訓練とテストを分割\n",
    "from sklearn.model_selection import train_test_split\n",
    "X_train, X_test, y_train, y_test = train_test_split(X, y, test_size=0.2, random_state=0)\n",
    "\n",
    "\n",
    "# 決定木で学習\n",
    "from sklearn.tree import DecisionTreeClassifier\n",
    "clf = DecisionTreeClassifier(random_state=0)\n",
    "clf = clf.fit(X_train, y_train)\n",
    "print(clf.predict(X_test))\n",
    "print(clf.score(X_test, y_test))\n"
   ],
   "metadata": {
    "collapsed": false,
    "pycharm": {
     "name": "#%%\n"
    }
   }
  }
 ],
 "metadata": {
  "kernelspec": {
   "display_name": "Python 3",
   "language": "python",
   "name": "python3"
  },
  "language_info": {
   "codemirror_mode": {
    "name": "ipython",
    "version": 2
   },
   "file_extension": ".py",
   "mimetype": "text/x-python",
   "name": "python",
   "nbconvert_exporter": "python",
   "pygments_lexer": "ipython2",
   "version": "2.7.6"
  }
 },
 "nbformat": 4,
 "nbformat_minor": 0
}